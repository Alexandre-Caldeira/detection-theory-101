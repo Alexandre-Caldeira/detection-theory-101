{
 "cells": [
  {
   "cell_type": "code",
   "execution_count": null,
   "metadata": {},
   "outputs": [],
   "source": [
    "import h5py\n",
    "from numpy import random as rd\n",
    "import pandas as pd\n",
    "import numpy as np\n",
    "import matplotlib.pyplot as plt\n",
    "import seaborn as sns\n",
    "%matplotlib inline\n",
    "plt.rcParams['figure.figsize'] = [20, 8]\n",
    "plt.rcParams['figure.dpi'] = 100 \n",
    "plt.rcParams['font.family'] = 'Garamond'\n",
    "plt.rcParams['font.size'] = 20\n",
    "sns.set_theme(context=\"notebook\")\n",
    "from tqdm import tqdm"
   ]
  }
 ],
 "metadata": {
  "language_info": {
   "name": "python"
  },
  "orig_nbformat": 4
 },
 "nbformat": 4,
 "nbformat_minor": 2
}
