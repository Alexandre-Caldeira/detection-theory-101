{
 "cells": [
  {
   "cell_type": "markdown",
   "metadata": {},
   "source": [
    "# Imports e Setup $\\sqrt{}$\n",
    "$\\alpha := 5 \\%$ !!!"
   ]
  },
  {
   "cell_type": "code",
   "execution_count": 82,
   "metadata": {},
   "outputs": [],
   "source": [
    "import pandas as pd\n",
    "import seaborn as sns\n",
    "import matplotlib.pyplot as plt\n",
    "import numpy as np\n",
    "from numpy import random as rd\n",
    "%matplotlib inline\n",
    "plt.rcParams['figure.figsize'] = [20, 8]\n",
    "plt.rcParams['figure.dpi'] = 100 # 200 e.g. is really fine, but slower\n",
    "sns.set_theme(context=\"notebook\")\n",
    "from tqdm import tqdm\n",
    "\n",
    "# scipy.fft é melhor !\n",
    "# https://stackoverflow.com/questions/6363154/what-is-the-difference-between-numpy-fft-and-scipy-fftpack\n",
    "from scipy.fft import fft\n",
    "from scipy.fftpack.helper import fftfreq\n",
    "# from numpy.fft import fft,fftfreq\n",
    "\n",
    "from scipy.stats import f as FDIST\n",
    "from scipy.stats.distributions import chi2"
   ]
  },
  {
   "cell_type": "code",
   "execution_count": 83,
   "metadata": {},
   "outputs": [],
   "source": [
    "# Calcula valor crítico em ORD qualquer, calculando quantil 95%\n",
    "def vc_pratico(ORD, alpha = 0.05):\n",
    "    return np.quantile(a= ORD, q = 1-alpha)"
   ]
  },
  {
   "cell_type": "markdown",
   "metadata": {},
   "source": [
    "# SFT: Spectral F-Test $\\sqrt{}$"
   ]
  },
  {
   "cell_type": "markdown",
   "metadata": {},
   "source": [
    "## Definição e Funções"
   ]
  },
  {
   "cell_type": "markdown",
   "metadata": {},
   "source": [
    "<img src = \"sft.png\"/>"
   ]
  },
  {
   "cell_type": "code",
   "execution_count": 84,
   "metadata": {},
   "outputs": [],
   "source": [
    "def vc_SFT(L, alpha = 0.05, VERBOSE = 0):\n",
    "    # valor crítico teórico, dado tomando inversa da distribuição acumulada F\n",
    "    # (Fisher-Snedecor)\n",
    "    # com significancia 1-alpha (95% se não for alterada)\n",
    "    vc = FDIST.ppf(1-alpha, 2,2*L) \n",
    "    \n",
    "    if VERBOSE==1:\n",
    "        print('Significância desejada: ',alpha*100,'\\b%')\n",
    "    if VERBOSE==2:\n",
    "        print('Significância desejada: ',alpha*100,'\\b%')\n",
    "        print('Valor crítico SFT: ',vc)\n",
    "\n",
    "    return vc\n",
    "        #fce999 TODO: perguntar por que 2 e 2*L!\n",
    "\n",
    "def ord_SFT(sinal, L, BIN):\n",
    "    # L: tamanho das laterais\n",
    "    SINAL = fft(sinal)\n",
    "\n",
    "    central = round(BIN) # certifica inteiro (não float)\n",
    "    lateralMenor = round(central-L/2)\n",
    "    lateralMaior = round(central+L/2)+1       \n",
    "\n",
    "    DEN =np.abs(SINAL[central])**2\n",
    "    SINAL_lateral = np.array(list(SINAL[lateralMenor:central])+list(SINAL[central+1:lateralMaior])) \n",
    "    NUM = (1/L)*np.sum(np.abs(SINAL_lateral)**2)\n",
    "    SFT = DEN/NUM\n",
    "    \n",
    "    return [SINAL,SFT]"
   ]
  },
  {
   "cell_type": "markdown",
   "metadata": {},
   "source": [
    "## Single-shot"
   ]
  },
  {
   "cell_type": "code",
   "execution_count": 85,
   "metadata": {},
   "outputs": [
    {
     "name": "stderr",
     "output_type": "stream",
     "text": [
      "100%|██████████| 10000/10000 [00:04<00:00, 2289.88it/s]"
     ]
    },
    {
     "name": "stdout",
     "output_type": "stream",
     "text": [
      "Taxa de FP: 1.92\n"
     ]
    },
    {
     "name": "stderr",
     "output_type": "stream",
     "text": [
      "\n"
     ]
    }
   ],
   "source": [
    "from tqdm import tqdm \n",
    "\n",
    "nSim = 1e4\n",
    "L = 6\n",
    "BIN = 30\n",
    "\n",
    "vc = vc_SFT(L=L,alpha=0.02)\n",
    "nd = 0\n",
    "hist = []\n",
    "\n",
    "for i in tqdm(range(1,round(nSim+1))):\n",
    "    x = np.zeros((round(nSim),))\n",
    "\n",
    "    x = rd.randn(round(nSim))\n",
    "    [X, ORD]= ord_SFT(sinal = x, L = L, BIN = BIN)\n",
    "    if ORD>vc: nd+=1\n",
    "\n",
    "\n",
    "print('Taxa de FP: '+str(nd/nSim *100))"
   ]
  },
  {
   "cell_type": "markdown",
   "metadata": {},
   "source": [
    "# CSM: Component Synchrony Measure $\\sqrt{}$"
   ]
  },
  {
   "cell_type": "markdown",
   "metadata": {},
   "source": [
    "## Definição e Funções: "
   ]
  },
  {
   "cell_type": "markdown",
   "metadata": {},
   "source": [
    "<img src = \"csm.png\"/>"
   ]
  },
  {
   "cell_type": "code",
   "execution_count": 86,
   "metadata": {},
   "outputs": [],
   "source": [
    "def vc_CSM(M, alpha = 0.05, VERBOSE=0):\n",
    "    vc = chi2.ppf(1-alpha,2)/(2*M)\n",
    "    \n",
    "    if VERBOSE==1:\n",
    "        print('Significância desejada: ',alpha*100,'\\b%')\n",
    "    if VERBOSE==2:\n",
    "        print('Significância desejada: ',alpha*100,'\\b%')\n",
    "        print('Valor crítico CSM: ',vc)\n",
    "\n",
    "    return vc\n",
    "\n",
    "\n",
    "def ord_CSM(sinal, tamanhoJanela, M):\n",
    "    if len(sinal)-tamanhoJanela*M>=0:\n",
    "        \n",
    "        sinal = np.reshape(sinal[0:tamanhoJanela*M], (tamanhoJanela,M))\n",
    "\n",
    "\n",
    "        FFT_SINAL = fft(sinal)\n",
    "\n",
    "        CSM = (np.sum(np.cos(np.angle(FFT_SINAL)),axis=1)/M)**2 + (np.sum(np.sin(np.angle(FFT_SINAL)),axis=1)/M)**2\n",
    "\n",
    "        return [FFT_SINAL,CSM]\n",
    "    else:\n",
    "        print('Erro no número de janelas', round(tamanhoJanela),'(ou amostras, M =', M,'\\b) escolhido.')\n",
    "        print('Tamanho do Sinal menos M*tamanhoJanela:', len(sinal)-M*tamanhoJanela)\n",
    "        print('(Retorna 0)')\n",
    "        return 0 "
   ]
  },
  {
   "cell_type": "markdown",
   "metadata": {},
   "source": [
    "## Single-shot"
   ]
  },
  {
   "cell_type": "code",
   "execution_count": 87,
   "metadata": {},
   "outputs": [
    {
     "name": "stderr",
     "output_type": "stream",
     "text": [
      "100%|██████████| 10000/10000 [00:14<00:00, 679.05it/s]"
     ]
    },
    {
     "name": "stdout",
     "output_type": "stream",
     "text": [
      "Taxa de FP: 7.91\n"
     ]
    },
    {
     "name": "stderr",
     "output_type": "stream",
     "text": [
      "\n"
     ]
    }
   ],
   "source": [
    "from tqdm import tqdm \n",
    "\n",
    "nSim = round(1e4)\n",
    "\n",
    "fs = 100 # frequencia de amostragem\n",
    "tj = 100 # tamanho da janela (1 seg/janela, pra facilitar)\n",
    "M = 100 # teste em 100 segundos\n",
    "vc = vc_CSM(M)\n",
    "\n",
    "N = round(M*tj)\n",
    "BIN = 42\n",
    "nd = 0\n",
    "ndp = 0\n",
    "hist = []\n",
    "\n",
    "\n",
    "for i in tqdm(range(1,nSim+1)):\n",
    "    x = np.zeros((N,))\n",
    "\n",
    "    x = rd.randn(N)\n",
    "    [X, ORD]= ord_CSM(sinal=x, tamanhoJanela=tj, M=M)\n",
    "    # print(ORD)\n",
    "\n",
    "    if ORD[BIN]>vc: nd+=1\n",
    "\n",
    "    vcp = vc_pratico(ORD)\n",
    "    if ORD[BIN]>vcp: ndp+=1\n",
    "\n",
    "    hist.append(ORD)\n",
    "\n",
    "vcp = vc_pratico(hist)\n",
    "\n",
    "print('Taxa de FP: '+str(nd/nSim *100))\n"
   ]
  },
  {
   "cell_type": "markdown",
   "metadata": {},
   "source": [
    "### Gráfico de comparação entre VC Teórico e Prático\n",
    "\n",
    "> ~ COMPARAÇÕES ~"
   ]
  },
  {
   "cell_type": "code",
   "execution_count": 88,
   "metadata": {},
   "outputs": [
    {
     "name": "stdout",
     "output_type": "stream",
     "text": [
      "\n",
      " ~ COMPARAÇÕES ~\n",
      "Valor critico pratico:  0.038253162846292904\n",
      "Valor critico teorico:  0.029957322735539894\n",
      "Erro relativo: 27.69%\n",
      "Taxa de FP (vc_teorico): 7.91%\n",
      "Taxa de FP (vc_pratico): 4.67%\n"
     ]
    }
   ],
   "source": [
    "print('\\n ~ COMPARAÇÕES ~')\n",
    "print('Valor critico pratico: ',vcp)\n",
    "print('Valor critico teorico: ',vc)\n",
    "print('Erro relativo:' , round((vcp-vc)/vc*100,ndigits=2),'\\b%')\n",
    "\n",
    "print('Taxa de FP (vc_teorico): '+str(round(nd/nSim *100,ndigits=2)),'\\b%')\n",
    "print('Taxa de FP (vc_pratico): '+str(round(ndp/nSim *100,ndigits=2)),'\\b%')\n",
    "# sns.lineplot(y= hist,x=range(1,nSim+1));"
   ]
  },
  {
   "cell_type": "markdown",
   "metadata": {},
   "source": [
    "## Sequencial:"
   ]
  },
  {
   "cell_type": "code",
   "execution_count": 89,
   "metadata": {},
   "outputs": [
    {
     "name": "stderr",
     "output_type": "stream",
     "text": [
      "100%|██████████| 10000/10000 [00:14<00:00, 695.71it/s]"
     ]
    },
    {
     "name": "stdout",
     "output_type": "stream",
     "text": [
      "Taxa de FP: 15.66%\n"
     ]
    },
    {
     "name": "stderr",
     "output_type": "stream",
     "text": [
      "\n"
     ]
    }
   ],
   "source": [
    "# Dois testes:\n",
    "from tqdm import tqdm \n",
    "\n",
    "nSim = 1e4\n",
    "\n",
    "fs = 126 \n",
    "tj = 126 # cada janela um segundo \n",
    "alfa = 0.05\n",
    "\n",
    "M1test = 31 # teste em 30 segundos \n",
    "M2test = 60 # teste em 60 segundos\n",
    "\n",
    "vc1 = vc_CSM(M1test)\n",
    "vc2 = vc_CSM(M2test)\n",
    "\n",
    "Mmax = M2test; \n",
    "N = Mmax *tj;\n",
    "BIN = 30\n",
    "nd = 0\n",
    "hist = []\n",
    "\n",
    "\n",
    "for i in tqdm(range(1,round(nSim+1))):\n",
    "    x = np.zeros((Mmax*tj,))\n",
    "\n",
    "    x[0:M1test*tj] = rd.randn(M1test*tj)\n",
    "    [X, ORD]= ord_CSM(sinal=x, tamanhoJanela=tj, M=M1test)\n",
    "\n",
    "    if ORD[BIN]>vc1: nd+=1\n",
    "    else:\n",
    "        x[M1test*tj:tj*M2test+1] = rd.randn((M2test-M1test)*tj)\n",
    "        [X, ORD]= ord_CSM(sinal=x, tamanhoJanela=tj, M=M2test)\n",
    "        if ORD[BIN]>vc2: nd+=1\n",
    "\n",
    "\n",
    "print('Taxa de FP: '+str(round(nd/nSim *100,ndigits=2)),'\\b%')"
   ]
  },
  {
   "cell_type": "markdown",
   "metadata": {},
   "source": [
    "# MSC: Magnitude-Squared Coherence $\\sqrt{}$"
   ]
  },
  {
   "cell_type": "markdown",
   "metadata": {},
   "source": [
    "## Definição e Funções"
   ]
  },
  {
   "cell_type": "markdown",
   "metadata": {},
   "source": [
    "<img src = \"../res/msc.png\"/>"
   ]
  },
  {
   "cell_type": "code",
   "execution_count": 90,
   "metadata": {},
   "outputs": [],
   "source": [
    "def vc_MSC(M, alpha = 0.05, VERBOSE = 0):\n",
    "    vc = 1-alpha**(1/(M-1))\n",
    "    if VERBOSE==1:\n",
    "        print('Significância desejada: ',alpha*100,'\\b%')\n",
    "    if VERBOSE==2:\n",
    "        print('Significância desejada: ',alpha*100,'\\b%')\n",
    "        print('Valor crítico MSC: ',vc)\n",
    "    return vc # valor crítico\n",
    "\n",
    "def ord_MSC(sinal, tamanhoJanela, M):\n",
    "    sinal = np.reshape(sinal[0:tamanhoJanela*M], (tamanhoJanela,M))\n",
    "\n",
    "    SINAL = fft(sinal)\n",
    "    \n",
    "    MSC = (np.abs(np.sum(SINAL,axis=1))**2) / (M*np.sum(np.abs(SINAL)**2,axis=1))\n",
    "\n",
    "    return [SINAL,MSC]"
   ]
  },
  {
   "cell_type": "markdown",
   "metadata": {},
   "source": [
    "## Single-shot:"
   ]
  },
  {
   "cell_type": "code",
   "execution_count": 91,
   "metadata": {},
   "outputs": [
    {
     "name": "stderr",
     "output_type": "stream",
     "text": [
      "100%|██████████| 10000/10000 [00:17<00:00, 558.19it/s]"
     ]
    },
    {
     "name": "stdout",
     "output_type": "stream",
     "text": [
      "\n",
      " ~ COMPARAÇÕES ~\n",
      "Valor critico pratico:  0.01812842533777315\n",
      "Taxa de FP (vc_t): 8.64%\n",
      "Taxa de FP (vc_p): 5.02%\n"
     ]
    },
    {
     "name": "stderr",
     "output_type": "stream",
     "text": [
      "\n"
     ]
    }
   ],
   "source": [
    "from tqdm import tqdm \n",
    "\n",
    "nSim = round(1e4)\n",
    "N = 1e4 # pontos\n",
    "x = np.zeros((N,))\n",
    "\n",
    "nd = 0\n",
    "ndp = 0\n",
    "hist = []\n",
    "\n",
    "\n",
    "for i in tqdm(range(1,nSim+1)):\n",
    "    x = rd.randn(N)\n",
    "    \n",
    "    [_, ORD]= ord_SFT(sinal=x, tamanhoJanela=tj, M=M)\n",
    "\n",
    "\n",
    "# Só por comparação e discussão:\n",
    "print('\\n ~ COMPARAÇÕES ~')\n",
    "print('Valor critico pratico: ',vc_pratico(ORD))\n",
    "\n",
    "print('Taxa de FP (vc_t): '+str(round(nd/nSim *100,ndigits=2)),'\\b%')\n",
    "print('Taxa de FP (vc_p): '+str(round(ndp/nSim *100,ndigits=2)),'\\b%')"
   ]
  },
  {
   "cell_type": "markdown",
   "metadata": {},
   "source": [
    "## Sequencial:"
   ]
  },
  {
   "cell_type": "code",
   "execution_count": 92,
   "metadata": {},
   "outputs": [
    {
     "name": "stderr",
     "output_type": "stream",
     "text": [
      "100%|██████████| 10000/10000 [00:05<00:00, 1820.82it/s]"
     ]
    },
    {
     "name": "stdout",
     "output_type": "stream",
     "text": [
      "Taxa de FP: 16.38%\n"
     ]
    },
    {
     "name": "stderr",
     "output_type": "stream",
     "text": [
      "\n"
     ]
    }
   ],
   "source": [
    "# Apenas 2 testes (exempo):\n",
    "from tqdm import tqdm \n",
    "\n",
    "nSim = 1e4\n",
    "\n",
    "fs = 126 \n",
    "tj = 126 # cada janela um segundo \n",
    "alfa = 0.05\n",
    "\n",
    "M1test = 31 # teste em 30 segundos \n",
    "M2test = 60 # teste em 60 segundos\n",
    "\n",
    "vc1 = vc_MSC(M1test)\n",
    "vc2 = vc_MSC(M2test)\n",
    "\n",
    "Mmax = M2test; \n",
    "N = Mmax *tj\n",
    "BIN = 30\n",
    "nd = 0\n",
    "hist = []\n",
    "\n",
    "\n",
    "for i in tqdm(range(1,round(nSim+1))):\n",
    "    x = np.zeros((Mmax*tj,))\n",
    "\n",
    "    x[0:M1test*tj] = rd.randn(M1test*tj)\n",
    "    [X, ORD]= ord_MSC(sinal=x, tamanhoJanela=tj, M=M1test)\n",
    "\n",
    "    if ORD[BIN]>vc1: nd+=1\n",
    "    else:\n",
    "        x[M1test*tj:tj*M2test+1] = rd.randn((M2test-M1test)*tj)\n",
    "        [X, ORD]= ord_MSC(sinal=x, tamanhoJanela=tj, M=M2test)\n",
    "        if ORD[BIN]>vc2: nd+=1\n",
    "\n",
    "\n",
    "print('Taxa de FP: '+str(nd/nSim *100),'\\b%')"
   ]
  },
  {
   "cell_type": "code",
   "execution_count": 93,
   "metadata": {},
   "outputs": [
    {
     "name": "stderr",
     "output_type": "stream",
     "text": [
      "100%|██████████| 10000/10000 [00:10<00:00, 911.66it/s]"
     ]
    },
    {
     "name": "stdout",
     "output_type": "stream",
     "text": [
      "Taxa de FP: 18.8%\n"
     ]
    },
    {
     "name": "stderr",
     "output_type": "stream",
     "text": [
      "\n"
     ]
    }
   ],
   "source": [
    "# Sequencial generalizado:\n",
    "from tqdm import tqdm \n",
    "\n",
    "nSim = round(1e4)\n",
    "\n",
    "fs = 100 \n",
    "tj = 100 # cada janela um segundo \n",
    "alfa = 0.05\n",
    "\n",
    "M = 30 # teste em 30 segundos\n",
    "Mstep = 10\n",
    "\n",
    "vc = vc_MSC(M)\n",
    "\n",
    "Mmax = 90; \n",
    "N = round(Mmax*tj)\n",
    "BIN = 30\n",
    "nd = 0\n",
    "hist = []\n",
    "\n",
    "\n",
    "for i in tqdm(range(1,nSim+1)):\n",
    "    x = np.zeros((N,))\n",
    "    x = rd.randn(N)\n",
    "\n",
    "    for M_atual in range(M, Mmax, Mstep):\n",
    "        [X, ORD]= ord_MSC(sinal=x, tamanhoJanela=tj, M=M_atual)\n",
    "\n",
    "        if ORD[BIN]>vc: nd+=1\n",
    "\n",
    "print('Taxa de FP: '+str(nd/nSim *100),'\\b%')"
   ]
  },
  {
   "cell_type": "markdown",
   "metadata": {},
   "source": [
    "# Controle de significância (MSC) $\\sqrt{}$"
   ]
  },
  {
   "cell_type": "markdown",
   "metadata": {},
   "source": [
    "## Definindo:"
   ]
  },
  {
   "cell_type": "code",
   "execution_count": 94,
   "metadata": {},
   "outputs": [
    {
     "name": "stdout",
     "output_type": "stream",
     "text": [
      "\n",
      "Calculando alpha corrigido para alphaD = 0.04\n"
     ]
    },
    {
     "name": "stderr",
     "output_type": "stream",
     "text": [
      "Iteração #1: 100%|██████████| 1000/1000 [00:00<00:00, 1313.99it/s]\n"
     ]
    },
    {
     "name": "stdout",
     "output_type": "stream",
     "text": [
      "Significancia atingida: 5.583%\n",
      "Alpha corrigido: 0.007\n"
     ]
    },
    {
     "name": "stderr",
     "output_type": "stream",
     "text": [
      "Iteração #2: 100%|██████████| 1000/1000 [00:00<00:00, 1277.14it/s]\n"
     ]
    },
    {
     "name": "stdout",
     "output_type": "stream",
     "text": [
      "Significancia atingida: 4.733%\n",
      "Alpha corrigido: 0.005\n"
     ]
    },
    {
     "name": "stderr",
     "output_type": "stream",
     "text": [
      "Iteração #3: 100%|██████████| 1000/1000 [00:00<00:00, 1137.66it/s]\n"
     ]
    },
    {
     "name": "stdout",
     "output_type": "stream",
     "text": [
      "Significancia atingida: 4.1%\n",
      "Alpha corrigido: 0.004\n"
     ]
    },
    {
     "name": "stderr",
     "output_type": "stream",
     "text": [
      "Iteração #4: 100%|██████████| 1000/1000 [00:00<00:00, 1169.59it/s]\n"
     ]
    },
    {
     "name": "stdout",
     "output_type": "stream",
     "text": [
      "Significancia atingida: 3.367%\n",
      "Alpha corrigido: 0.003\n",
      "0.0033000000000000004\n"
     ]
    }
   ],
   "source": [
    "# Usando sequencial generalizado, queremos FP= 5% no teste GERAL! Qual deve ser FPi (cada iteração)?\n",
    "\n",
    "def corrige_alfaMSC(\n",
    "    tj = 100, # cada janela um segundo \n",
    "    Mmin = 10,\n",
    "    Mstep = 10,\n",
    "    Mmax = 60,\n",
    "    BIN = 7,\n",
    "    alphaD = 5/100,  #fff significancia a atingir\n",
    "    alphaInicial = -1,\n",
    "    tx_apr = 0.02,    # taxa de aprendizado\n",
    "    nSim = 1e3, \n",
    "    itMAX = 300,\n",
    "    VERBOSE = 1):\n",
    "\n",
    "    print('\\nCalculando alpha corrigido para alphaD =', alphaD)\n",
    "\n",
    "    N = round(Mmax*tj)  # tamanho máximo do sinal\n",
    "    nSim = round(nSim)  # numero de simulações\n",
    "    if alphaInicial<0: alphas = [alphaD/(Mmax/Mstep)] # primeiro \"chute\" = alpha Desejado\n",
    "    else: alphas = [alphaInicial]\n",
    "    alphaR = 1   # significancia REAL\n",
    "    it = 1  # iteração atual\n",
    "\n",
    "    while alphaR > alphaD and it <= itMAX:\n",
    "        if it>1:\n",
    "            # Se J = mse = e^2 (univariado), então:\n",
    "            grad = 2*alphaR - alphaD\n",
    "            alphas.append(alphas[-1] -tx_apr*(grad))\n",
    "\n",
    "        descricao = 'Iteração #'+str(it); it+=1; nd = 0; \n",
    "        \n",
    "        if VERBOSE>=2:\n",
    "            for _ in tqdm(range(1,nSim+1), leave=(VERBOSE>1), desc=descricao):\n",
    "                x = rd.randn(N) # gera o \"sinal\" completo\n",
    "                for M in range(Mmin, Mmax+Mstep,Mstep):\n",
    "                    vc = vc_MSC(M,alpha=alphas[-1])            \n",
    "                    [_, ORD]= ord_MSC(sinal=x, tamanhoJanela=tj, M=M)\n",
    "                    if ORD[BIN]>vc: nd+=1\n",
    "\n",
    "        if VERBOSE==1:\n",
    "            for _ in tqdm(range(1,nSim+1), leave=False):\n",
    "                x = rd.randn(N) # gera o \"sinal\" completo\n",
    "                for M in range(Mmin, Mmax+Mstep,Mstep):\n",
    "                    vc = vc_MSC(M,alpha=alphas[-1])            \n",
    "                    [_, ORD]= ord_MSC(sinal=x, tamanhoJanela=tj, M=M)\n",
    "                    if ORD[BIN]>vc: nd+=1\n",
    "\n",
    "        else:\n",
    "            for _ in range(1,nSim+1):\n",
    "                x = rd.randn(N) # gera o \"sinal\" completo\n",
    "                for M in range(Mmin, Mmax+Mstep,Mstep):\n",
    "                    vc = vc_MSC(M,alpha=alphas[-1])            \n",
    "                    [_, ORD]= ord_MSC(sinal=x, tamanhoJanela=tj, M=M)\n",
    "                    if ORD[BIN]>vc: nd+=1\n",
    "\n",
    "        alphaR = nd/(nSim*(Mmax/Mstep))\n",
    "\n",
    "\n",
    "        if VERBOSE==3:\n",
    "            print('Significancia atingida:',round(alphaR*100,ndigits=3),'\\b%')\n",
    "            print('Alpha corrigido:', round(alphas[-1],ndigits=3))\n",
    "\n",
    "    if VERBOSE==1:\n",
    "        print('Significancia atingida:',round(alphaR*100,ndigits=3),'\\b%')\n",
    "        print('Alpha corrigido:', round(alphas[-1],ndigits=4))\n",
    "    \n",
    "    if it>=itMAX: \n",
    "        print('Iteração máxima (',itMAX,') atingida!')\n",
    "        print('Significancia alcançada:',round(alphaR*100,ndigits=3),'\\b%')\n",
    "        print('Retornando último valor de alpha corrigido: ', round(alphas[-1],ndigits=4))\n",
    "    \n",
    "    return alphas[-1]\n",
    "\n",
    "# Exemplo:\n",
    "print(corrige_alfaMSC(alphaD=0.04,VERBOSE=3))"
   ]
  },
  {
   "cell_type": "markdown",
   "metadata": {},
   "source": [
    "## Teste sequencial com controle de nível significância"
   ]
  },
  {
   "cell_type": "code",
   "execution_count": 95,
   "metadata": {},
   "outputs": [
    {
     "name": "stdout",
     "output_type": "stream",
     "text": [
      "\n",
      "Calculando alpha corrigido para alphaD = 0.05\n"
     ]
    },
    {
     "name": "stderr",
     "output_type": "stream",
     "text": [
      "Iteração #1: 100%|██████████| 1000/1000 [00:02<00:00, 381.10it/s]\n"
     ]
    },
    {
     "name": "stdout",
     "output_type": "stream",
     "text": [
      "Significancia atingida: 3.238%\n",
      "Alpha corrigido: 0.003\n"
     ]
    },
    {
     "name": "stderr",
     "output_type": "stream",
     "text": [
      "Simulando:: 100%|██████████| 10000/10000 [00:20<00:00, 493.80it/s]"
     ]
    },
    {
     "name": "stdout",
     "output_type": "stream",
     "text": [
      "Taxa de FP: 25.71%\n"
     ]
    },
    {
     "name": "stderr",
     "output_type": "stream",
     "text": [
      "\n"
     ]
    }
   ],
   "source": [
    "nSim = round(1e4)\n",
    "fs = 126 \n",
    "tj = 100 # tempo de cada janela (um segundo no caso)\n",
    "alpha=0.05\n",
    "Mmax= 80\n",
    "Mstep= 5\n",
    "Mmin= 10\n",
    "BIN = 7\n",
    "N = round(Mmax*tj)  # tamanho máximo do sinal\n",
    "\n",
    "alfa = corrige_alfaMSC(alphaD=alpha, Mmax= Mmax, Mstep=Mstep, Mmin= Mmin, BIN = BIN, VERBOSE=3) # significancia\n",
    "# print('Alpha corrigido:',round(alfa*100,ndigits=4),'\\b%')\n",
    "nd = 0\n",
    "numTestes=0\n",
    "\n",
    "for _ in tqdm(range(1,nSim+1), desc = 'Simulando:'):\n",
    "    x = rd.randn(N) # gera o \"sinal\" completo\n",
    "\n",
    "    for M in range(Mmin, Mmax+Mstep,Mstep):\n",
    "        vc = vc_MSC(M,alpha=alfa)            \n",
    "        [_, ORD]= ord_MSC(sinal=x, tamanhoJanela=tj, M=M)\n",
    "        if ORD[BIN]>vc: nd+=1\n",
    "        numTestes+=1\n",
    "\n",
    "alphaR = nd/(numTestes)\n",
    "# print(numTestes-nSim*(Mmax/Mstep))\n",
    "\n",
    "print('Taxa de FP: '+str(nd/nSim *100),'\\b%')"
   ]
  },
  {
   "cell_type": "code",
   "execution_count": 96,
   "metadata": {},
   "outputs": [
    {
     "name": "stdout",
     "output_type": "stream",
     "text": [
      "\n",
      "Calculando alpha corrigido para alphaD = 0.05\n"
     ]
    },
    {
     "name": "stderr",
     "output_type": "stream",
     "text": [
      "Iteração #1: 100%|██████████| 1000/1000 [00:02<00:00, 497.50it/s]\n"
     ]
    },
    {
     "name": "stdout",
     "output_type": "stream",
     "text": [
      "Significancia atingida: 3.163%\n",
      "Alpha corrigido: 0.003\n"
     ]
    },
    {
     "name": "stderr",
     "output_type": "stream",
     "text": [
      "Simulando: 100%|██████████| 2/2 [00:41<00:00, 20.71s/it]\n"
     ]
    }
   ],
   "source": [
    "nSim = round(1e4)\n",
    "fs = 126 \n",
    "tj = 100 # tempo de cada janela (um segundo no caso)\n",
    "alfa=0.05\n",
    "Mmax= 80\n",
    "Mstep= 5\n",
    "Mmin= 10\n",
    "BIN = 99\n",
    "N = round(Mmax*tj)  # tamanho máximo do sinal\n",
    "\n",
    "alfa = corrige_alfaMSC(alphaD=alfa, Mmax= Mmax, Mstep=Mstep, Mmin= Mmin, BIN = BIN, VERBOSE=3) # significancia\n",
    "\n",
    "# listaSNRs = np.arange(-20,16,1)\n",
    "listaSNRs = [-20,30]\n",
    "probDetec = np.zeros((len(listaSNRs),1))\n",
    "\n",
    "sinal = np.zeros((len(listaSNRs),nSim,N))\n",
    "ORDs = np.zeros((nSim,Mmax))\n",
    "energiaRuido = 1\n",
    "\n",
    "# Simulação MC:\n",
    "# for i, SNRi in tqdm(enumerate(listaSNRs),final=len(listaSNRs)+1, desc = 'Simulando'):\n",
    "for i in tqdm(range(0,len(listaSNRs)), desc = 'Simulando'):\n",
    "    SNRi = listaSNRs[i]\n",
    "    amplitude = 10**((SNRi/20)*(energiaRuido**2))\n",
    "    nd = 0\n",
    "    numTestes=0\n",
    "\n",
    "    for sim in range(0,nSim):\n",
    "        sinal[i,sim,:] = energiaRuido*rd.randn(N) + amplitude # gera o \"sinal\" completo\n",
    "        \n",
    "        for M in range(Mmin, Mmax+Mstep,Mstep):\n",
    "            limiar = vc_MSC(M,alpha=alfa)        \n",
    "            [_, ORD]= ord_MSC(sinal=sinal[i,sim,:], tamanhoJanela=tj, M=M)\n",
    "            if ORD[BIN]>limiar: nd+=1\n",
    "            numTestes+=1\n",
    "\n",
    "    probDetec[i] = nd/numTestes\n"
   ]
  },
  {
   "cell_type": "code",
   "execution_count": 97,
   "metadata": {},
   "outputs": [
    {
     "name": "stdout",
     "output_type": "stream",
     "text": [
      "\n",
      "Calculando alpha corrigido para alphaD = 0.05\n"
     ]
    },
    {
     "name": "stderr",
     "output_type": "stream",
     "text": [
      "Iteração #1: 100%|██████████| 1000/1000 [00:02<00:00, 433.27it/s]\n"
     ]
    },
    {
     "name": "stdout",
     "output_type": "stream",
     "text": [
      "Significancia atingida: 3.356%\n",
      "Alpha corrigido: 0.003\n"
     ]
    },
    {
     "name": "stderr",
     "output_type": "stream",
     "text": [
      "Simulando:  30%|███       | 3/10 [00:00<00:00, 21.90it/s]"
     ]
    },
    {
     "name": "stdout",
     "output_type": "stream",
     "text": [
      "P(detec): [0.]\n",
      "P(detec): [0.]\n",
      "P(detec): [0.]\n",
      "P(detec): [0.]\n",
      "P(detec): [0.]\n"
     ]
    },
    {
     "name": "stderr",
     "output_type": "stream",
     "text": [
      "Simulando:  60%|██████    | 6/10 [00:00<00:00, 21.62it/s]"
     ]
    },
    {
     "name": "stdout",
     "output_type": "stream",
     "text": [
      "P(detec): [0.]\n",
      "P(detec): [0.]\n",
      "P(detec): [0.]\n"
     ]
    },
    {
     "name": "stderr",
     "output_type": "stream",
     "text": [
      "Simulando: 100%|██████████| 10/10 [00:00<00:00, 21.79it/s]"
     ]
    },
    {
     "name": "stdout",
     "output_type": "stream",
     "text": [
      "P(detec): [0.]\n",
      "P(detec): [0.]\n"
     ]
    },
    {
     "name": "stderr",
     "output_type": "stream",
     "text": [
      "\n"
     ]
    }
   ],
   "source": [
    "# Senoidal:\n",
    "nSim = round(1e2)\n",
    "fs = 100\n",
    "f0 = 10 \n",
    "tj = 100 # tempo de cada janela (um segundo no caso)\n",
    "alfa=0.05\n",
    "Mmax= 80\n",
    "Mstep= 5\n",
    "Mmin= 10\n",
    "BIN = f0-1\n",
    "N = round(Mmax*tj)  # tamanho máximo do sinal\n",
    "\n",
    "alfa = corrige_alfaMSC(alphaD=alfa, Mmax= Mmax, Mstep=Mstep, Mmin= Mmin, BIN = BIN, VERBOSE=3) # significancia\n",
    "\n",
    "# listaSNRs = np.arange(-20,16,1)\n",
    "listaSNRs = [-20,-10,5,0,5,10,20,50,100,200]\n",
    "probDetec = np.zeros((len(listaSNRs),1))\n",
    "\n",
    "sinal = np.zeros((len(listaSNRs),nSim,N))\n",
    "ORDs = np.zeros((nSim,Mmax))\n",
    "energiaRuido = 1\n",
    "AmplitudeMaxima = 10\n",
    "seno = np.sin(np.linspace(0,2*np.pi*fs/f0,num=N))\n",
    "\n",
    "# Simulação MC:\n",
    "# for i, SNRi in tqdm(enumerate(listaSNRs),final=len(listaSNRs)+1, desc = 'Simulando'):\n",
    "for i in tqdm(range(0,len(listaSNRs)), desc = 'Simulando'):\n",
    "    SNRi = listaSNRs[i]\n",
    "    amplitude = AmplitudeMaxima**((SNRi/20)*(energiaRuido**2))\n",
    "    nd = 0\n",
    "    numTestes=0\n",
    "\n",
    "    for sim in range(0,nSim):\n",
    "        sinal[i,sim,:] =  energiaRuido*rd.randn(N) + amplitude*seno # gera o \"sinal\" completo\n",
    "        limiar = vc_SFT(L=5)        \n",
    "        [_, ORD]= ord_SFT(sinal=sinal[i,sim,:], L=5, BIN=BIN)\n",
    "        if ORD>limiar: nd+=1\n",
    "    # nd = np.sum(np.where(ORD>limiar))\n",
    "        \n",
    "        # for M in range(Mmin, Mmax+Mstep,Mstep):\n",
    "        #     limiar = vc_MSC(M,alpha=alfa)        \n",
    "        #     [_, ORD]= ord_MSC(sinal=sinal[i,sim,:], tamanhoJanela=tj, M=M)\n",
    "        #     nd = np.sum(np.where(ORD>limiar))\n",
    "            \n",
    "            # if ORD[BIN]>limiar: nd+=1\n",
    "            # numTestes+=1\n",
    "\n",
    "    probDetec[i] = nd\n",
    "    # /numTestes\n",
    "    print('P(detec):',probDetec[i]*100)\n"
   ]
  },
  {
   "cell_type": "code",
   "execution_count": 98,
   "metadata": {},
   "outputs": [
    {
     "data": {
      "image/png": "[encoded data removed]",
      "text/plain": [
       "<Figure size 2000x800 with 1 Axes>"
      ]
     },
     "metadata": {},
     "output_type": "display_data"
    }
   ],
   "source": [
    "pD = pd.DataFrame({'SNR': listaSNRs,'Probabilidade de Detecção [%]':probDetec[:,0]})\n",
    "sns.lineplot(data = pD,x='SNR',y='Probabilidade de Detecção [%]');"
   ]
  },
  {
   "cell_type": "code",
   "execution_count": 99,
   "metadata": {},
   "outputs": [
    {
     "ename": "TypeError",
     "evalue": "object of type 'numpy.float64' has no len()",
     "output_type": "error",
     "traceback": [
      "\u001b[1;31m---------------------------------------------------------------------------\u001b[0m",
      "\u001b[1;31mTypeError\u001b[0m                                 Traceback (most recent call last)",
      "\u001b[1;32m<ipython-input-99-b84a6294b9dc>\u001b[0m in \u001b[0;36m<module>\u001b[1;34m\u001b[0m\n\u001b[0;32m     10\u001b[0m \u001b[0mplt\u001b[0m\u001b[1;33m.\u001b[0m\u001b[0maxhline\u001b[0m\u001b[1;33m(\u001b[0m\u001b[0mlimiar\u001b[0m\u001b[1;33m,\u001b[0m \u001b[1;36m0\u001b[0m\u001b[1;33m,\u001b[0m\u001b[1;36m1\u001b[0m\u001b[1;33m,\u001b[0m\u001b[0mc\u001b[0m\u001b[1;33m=\u001b[0m\u001b[1;34m'r'\u001b[0m\u001b[1;33m,\u001b[0m\u001b[0mlinestyle\u001b[0m\u001b[1;33m=\u001b[0m\u001b[1;34m'--'\u001b[0m\u001b[1;33m)\u001b[0m\u001b[1;33m\u001b[0m\u001b[1;33m\u001b[0m\u001b[0m\n\u001b[0;32m     11\u001b[0m \u001b[0mplt\u001b[0m\u001b[1;33m.\u001b[0m\u001b[0maxhline\u001b[0m\u001b[1;33m(\u001b[0m\u001b[0mlimiar\u001b[0m\u001b[1;33m/\u001b[0m\u001b[1;36m2\u001b[0m\u001b[1;33m,\u001b[0m \u001b[1;36m0\u001b[0m\u001b[1;33m,\u001b[0m\u001b[1;36m1\u001b[0m\u001b[1;33m,\u001b[0m\u001b[0mc\u001b[0m\u001b[1;33m=\u001b[0m\u001b[1;34m'g'\u001b[0m\u001b[1;33m,\u001b[0m\u001b[0mlinestyle\u001b[0m\u001b[1;33m=\u001b[0m\u001b[1;34m'--'\u001b[0m\u001b[1;33m)\u001b[0m\u001b[1;33m\u001b[0m\u001b[1;33m\u001b[0m\u001b[0m\n\u001b[1;32m---> 12\u001b[1;33m \u001b[0msns\u001b[0m\u001b[1;33m.\u001b[0m\u001b[0mscatterplot\u001b[0m\u001b[1;33m(\u001b[0m\u001b[0mdata\u001b[0m \u001b[1;33m=\u001b[0m \u001b[0mORD\u001b[0m\u001b[1;33m)\u001b[0m\u001b[1;33m\u001b[0m\u001b[1;33m\u001b[0m\u001b[0m\n\u001b[0m\u001b[0;32m     13\u001b[0m \u001b[0mplt\u001b[0m\u001b[1;33m.\u001b[0m\u001b[0mxticks\u001b[0m\u001b[1;33m(\u001b[0m\u001b[0mnp\u001b[0m\u001b[1;33m.\u001b[0m\u001b[0marange\u001b[0m\u001b[1;33m(\u001b[0m\u001b[1;36m0\u001b[0m\u001b[1;33m,\u001b[0m\u001b[1;36m100\u001b[0m\u001b[1;33m,\u001b[0m\u001b[1;36m1\u001b[0m\u001b[1;33m)\u001b[0m\u001b[1;33m)\u001b[0m\u001b[1;33m\u001b[0m\u001b[1;33m\u001b[0m\u001b[0m\n\u001b[0;32m     14\u001b[0m \u001b[1;31m# print(ORD>BIN)\u001b[0m\u001b[1;33m\u001b[0m\u001b[1;33m\u001b[0m\u001b[1;33m\u001b[0m\u001b[0m\n",
      "\u001b[1;32m~\\AppData\\Local\\Programs\\Python\\Python38\\lib\\site-packages\\seaborn\\_decorators.py\u001b[0m in \u001b[0;36minner_f\u001b[1;34m(*args, **kwargs)\u001b[0m\n\u001b[0;32m     44\u001b[0m             )\n\u001b[0;32m     45\u001b[0m         \u001b[0mkwargs\u001b[0m\u001b[1;33m.\u001b[0m\u001b[0mupdate\u001b[0m\u001b[1;33m(\u001b[0m\u001b[1;33m{\u001b[0m\u001b[0mk\u001b[0m\u001b[1;33m:\u001b[0m \u001b[0marg\u001b[0m \u001b[1;32mfor\u001b[0m \u001b[0mk\u001b[0m\u001b[1;33m,\u001b[0m \u001b[0marg\u001b[0m \u001b[1;32min\u001b[0m \u001b[0mzip\u001b[0m\u001b[1;33m(\u001b[0m\u001b[0msig\u001b[0m\u001b[1;33m.\u001b[0m\u001b[0mparameters\u001b[0m\u001b[1;33m,\u001b[0m \u001b[0margs\u001b[0m\u001b[1;33m)\u001b[0m\u001b[1;33m}\u001b[0m\u001b[1;33m)\u001b[0m\u001b[1;33m\u001b[0m\u001b[1;33m\u001b[0m\u001b[0m\n\u001b[1;32m---> 46\u001b[1;33m         \u001b[1;32mreturn\u001b[0m \u001b[0mf\u001b[0m\u001b[1;33m(\u001b[0m\u001b[1;33m**\u001b[0m\u001b[0mkwargs\u001b[0m\u001b[1;33m)\u001b[0m\u001b[1;33m\u001b[0m\u001b[1;33m\u001b[0m\u001b[0m\n\u001b[0m\u001b[0;32m     47\u001b[0m     \u001b[1;32mreturn\u001b[0m \u001b[0minner_f\u001b[0m\u001b[1;33m\u001b[0m\u001b[1;33m\u001b[0m\u001b[0m\n\u001b[0;32m     48\u001b[0m \u001b[1;33m\u001b[0m\u001b[0m\n",
      "\u001b[1;32m~\\AppData\\Local\\Programs\\Python\\Python38\\lib\\site-packages\\seaborn\\relational.py\u001b[0m in \u001b[0;36mscatterplot\u001b[1;34m(x, y, hue, style, size, data, palette, hue_order, hue_norm, sizes, size_order, size_norm, markers, style_order, x_bins, y_bins, units, estimator, ci, n_boot, alpha, x_jitter, y_jitter, legend, ax, **kwargs)\u001b[0m\n\u001b[0;32m    799\u001b[0m \u001b[1;33m\u001b[0m\u001b[0m\n\u001b[0;32m    800\u001b[0m     \u001b[0mvariables\u001b[0m \u001b[1;33m=\u001b[0m \u001b[0m_ScatterPlotter\u001b[0m\u001b[1;33m.\u001b[0m\u001b[0mget_semantics\u001b[0m\u001b[1;33m(\u001b[0m\u001b[0mlocals\u001b[0m\u001b[1;33m(\u001b[0m\u001b[1;33m)\u001b[0m\u001b[1;33m)\u001b[0m\u001b[1;33m\u001b[0m\u001b[1;33m\u001b[0m\u001b[0m\n\u001b[1;32m--> 801\u001b[1;33m     p = _ScatterPlotter(\n\u001b[0m\u001b[0;32m    802\u001b[0m         \u001b[0mdata\u001b[0m\u001b[1;33m=\u001b[0m\u001b[0mdata\u001b[0m\u001b[1;33m,\u001b[0m \u001b[0mvariables\u001b[0m\u001b[1;33m=\u001b[0m\u001b[0mvariables\u001b[0m\u001b[1;33m,\u001b[0m\u001b[1;33m\u001b[0m\u001b[1;33m\u001b[0m\u001b[0m\n\u001b[0;32m    803\u001b[0m         \u001b[0mx_bins\u001b[0m\u001b[1;33m=\u001b[0m\u001b[0mx_bins\u001b[0m\u001b[1;33m,\u001b[0m \u001b[0my_bins\u001b[0m\u001b[1;33m=\u001b[0m\u001b[0my_bins\u001b[0m\u001b[1;33m,\u001b[0m\u001b[1;33m\u001b[0m\u001b[1;33m\u001b[0m\u001b[0m\n",
      "\u001b[1;32m~\\AppData\\Local\\Programs\\Python\\Python38\\lib\\site-packages\\seaborn\\relational.py\u001b[0m in \u001b[0;36m__init__\u001b[1;34m(self, data, variables, x_bins, y_bins, estimator, ci, n_boot, alpha, x_jitter, y_jitter, legend)\u001b[0m\n\u001b[0;32m    585\u001b[0m         )\n\u001b[0;32m    586\u001b[0m \u001b[1;33m\u001b[0m\u001b[0m\n\u001b[1;32m--> 587\u001b[1;33m         \u001b[0msuper\u001b[0m\u001b[1;33m(\u001b[0m\u001b[1;33m)\u001b[0m\u001b[1;33m.\u001b[0m\u001b[0m__init__\u001b[0m\u001b[1;33m(\u001b[0m\u001b[0mdata\u001b[0m\u001b[1;33m=\u001b[0m\u001b[0mdata\u001b[0m\u001b[1;33m,\u001b[0m \u001b[0mvariables\u001b[0m\u001b[1;33m=\u001b[0m\u001b[0mvariables\u001b[0m\u001b[1;33m)\u001b[0m\u001b[1;33m\u001b[0m\u001b[1;33m\u001b[0m\u001b[0m\n\u001b[0m\u001b[0;32m    588\u001b[0m \u001b[1;33m\u001b[0m\u001b[0m\n\u001b[0;32m    589\u001b[0m         \u001b[0mself\u001b[0m\u001b[1;33m.\u001b[0m\u001b[0malpha\u001b[0m \u001b[1;33m=\u001b[0m \u001b[0malpha\u001b[0m\u001b[1;33m\u001b[0m\u001b[1;33m\u001b[0m\u001b[0m\n",
      "\u001b[1;32m~\\AppData\\Local\\Programs\\Python\\Python38\\lib\\site-packages\\seaborn\\_core.py\u001b[0m in \u001b[0;36m__init__\u001b[1;34m(self, data, variables)\u001b[0m\n\u001b[0;32m    602\u001b[0m     \u001b[1;32mdef\u001b[0m \u001b[0m__init__\u001b[0m\u001b[1;33m(\u001b[0m\u001b[0mself\u001b[0m\u001b[1;33m,\u001b[0m \u001b[0mdata\u001b[0m\u001b[1;33m=\u001b[0m\u001b[1;32mNone\u001b[0m\u001b[1;33m,\u001b[0m \u001b[0mvariables\u001b[0m\u001b[1;33m=\u001b[0m\u001b[1;33m{\u001b[0m\u001b[1;33m}\u001b[0m\u001b[1;33m)\u001b[0m\u001b[1;33m:\u001b[0m\u001b[1;33m\u001b[0m\u001b[1;33m\u001b[0m\u001b[0m\n\u001b[0;32m    603\u001b[0m \u001b[1;33m\u001b[0m\u001b[0m\n\u001b[1;32m--> 604\u001b[1;33m         \u001b[0mself\u001b[0m\u001b[1;33m.\u001b[0m\u001b[0massign_variables\u001b[0m\u001b[1;33m(\u001b[0m\u001b[0mdata\u001b[0m\u001b[1;33m,\u001b[0m \u001b[0mvariables\u001b[0m\u001b[1;33m)\u001b[0m\u001b[1;33m\u001b[0m\u001b[1;33m\u001b[0m\u001b[0m\n\u001b[0m\u001b[0;32m    605\u001b[0m \u001b[1;33m\u001b[0m\u001b[0m\n\u001b[0;32m    606\u001b[0m         \u001b[1;32mfor\u001b[0m \u001b[0mvar\u001b[0m\u001b[1;33m,\u001b[0m \u001b[0mcls\u001b[0m \u001b[1;32min\u001b[0m \u001b[0mself\u001b[0m\u001b[1;33m.\u001b[0m\u001b[0m_semantic_mappings\u001b[0m\u001b[1;33m.\u001b[0m\u001b[0mitems\u001b[0m\u001b[1;33m(\u001b[0m\u001b[1;33m)\u001b[0m\u001b[1;33m:\u001b[0m\u001b[1;33m\u001b[0m\u001b[1;33m\u001b[0m\u001b[0m\n",
      "\u001b[1;32m~\\AppData\\Local\\Programs\\Python\\Python38\\lib\\site-packages\\seaborn\\_core.py\u001b[0m in \u001b[0;36massign_variables\u001b[1;34m(self, data, variables)\u001b[0m\n\u001b[0;32m    660\u001b[0m         \u001b[1;32mif\u001b[0m \u001b[0mx\u001b[0m \u001b[1;32mis\u001b[0m \u001b[1;32mNone\u001b[0m \u001b[1;32mand\u001b[0m \u001b[0my\u001b[0m \u001b[1;32mis\u001b[0m \u001b[1;32mNone\u001b[0m\u001b[1;33m:\u001b[0m\u001b[1;33m\u001b[0m\u001b[1;33m\u001b[0m\u001b[0m\n\u001b[0;32m    661\u001b[0m             \u001b[0mself\u001b[0m\u001b[1;33m.\u001b[0m\u001b[0minput_format\u001b[0m \u001b[1;33m=\u001b[0m \u001b[1;34m\"wide\"\u001b[0m\u001b[1;33m\u001b[0m\u001b[1;33m\u001b[0m\u001b[0m\n\u001b[1;32m--> 662\u001b[1;33m             plot_data, variables = self._assign_variables_wideform(\n\u001b[0m\u001b[0;32m    663\u001b[0m                 \u001b[0mdata\u001b[0m\u001b[1;33m,\u001b[0m \u001b[1;33m**\u001b[0m\u001b[0mvariables\u001b[0m\u001b[1;33m,\u001b[0m\u001b[1;33m\u001b[0m\u001b[1;33m\u001b[0m\u001b[0m\n\u001b[0;32m    664\u001b[0m             )\n",
      "\u001b[1;32m~\\AppData\\Local\\Programs\\Python\\Python38\\lib\\site-packages\\seaborn\\_core.py\u001b[0m in \u001b[0;36m_assign_variables_wideform\u001b[1;34m(self, data, **kwargs)\u001b[0m\n\u001b[0;32m    712\u001b[0m \u001b[1;33m\u001b[0m\u001b[0m\n\u001b[0;32m    713\u001b[0m         \u001b[1;31m# Determine if the data object actually has any data in it\u001b[0m\u001b[1;33m\u001b[0m\u001b[1;33m\u001b[0m\u001b[1;33m\u001b[0m\u001b[0m\n\u001b[1;32m--> 714\u001b[1;33m         \u001b[0mempty\u001b[0m \u001b[1;33m=\u001b[0m \u001b[0mdata\u001b[0m \u001b[1;32mis\u001b[0m \u001b[1;32mNone\u001b[0m \u001b[1;32mor\u001b[0m \u001b[1;32mnot\u001b[0m \u001b[0mlen\u001b[0m\u001b[1;33m(\u001b[0m\u001b[0mdata\u001b[0m\u001b[1;33m)\u001b[0m\u001b[1;33m\u001b[0m\u001b[1;33m\u001b[0m\u001b[0m\n\u001b[0m\u001b[0;32m    715\u001b[0m \u001b[1;33m\u001b[0m\u001b[0m\n\u001b[0;32m    716\u001b[0m         \u001b[1;31m# Then, determine if we have \"flat\" data (a single vector)\u001b[0m\u001b[1;33m\u001b[0m\u001b[1;33m\u001b[0m\u001b[1;33m\u001b[0m\u001b[0m\n",
      "\u001b[1;31mTypeError\u001b[0m: object of type 'numpy.float64' has no len()"
     ]
    },
    {
     "data": {
      "image/png": "[encoded data removed]",
      "text/plain": [
       "<Figure size 2000x800 with 1 Axes>"
      ]
     },
     "metadata": {},
     "output_type": "display_data"
    }
   ],
   "source": [
    "# f0 = 10\n",
    "# fs = 100\n",
    "# seno = np.sin(np.linspace(0,2*np.pi*fs/f0,num=N))\n",
    "# # BIN = \n",
    "# S = abs(fft(seno))\n",
    "# print(np.where(S==max(S))) # deu 10 = f0\n",
    "# freq = fftfreq(seno.size, d=1/100)\n",
    "# print(freq)\n",
    "# sns.lineplot(data = np.sin(np.linspace(0,2*np.pi*fs/f0,num=N)))\n",
    "plt.axhline(limiar, 0,1,c='r',linestyle='--')\n",
    "plt.axhline(limiar/2, 0,1,c='g',linestyle='--')\n",
    "sns.scatterplot(data = ORD)\n",
    "plt.xticks(np.arange(0,100,1))\n",
    "# print(ORD>BIN)\n",
    "print(max(ORD))\n",
    "print(limiar/2)\n",
    "plt.title('MSC na melhor SNR')\n",
    "plt.xlabel('Bins')\n",
    "plt.ylabel('Valor da MSC')\n",
    "# # print(nd)\n"
   ]
  },
  {
   "cell_type": "code",
   "execution_count": null,
   "metadata": {},
   "outputs": [
    {
     "data": {
      "text/plain": [
       "Text(0.5, 1.0, 'Distribuição dos sinais em duas SNR')"
      ]
     },
     "execution_count": 49,
     "metadata": {},
     "output_type": "execute_result"
    },
    {
     "data": {
      "image/png": "[encoded data removed]",
      "text/plain": [
       "<Figure size 2000x800 with 1 Axes>"
      ]
     },
     "metadata": {},
     "output_type": "display_data"
    }
   ],
   "source": [
    "# print(sinal.shape)\n",
    "[_,B] = ord_MSC(sinal[-1,42,:],tamanhoJanela=tj,M=Mmax)\n",
    "[_,A] = ord_MSC(sinal[0,42,:],tamanhoJanela=tj,M=Mmax)\n",
    "[_,R] = ord_MSC(rd.randn(N,),tamanhoJanela=tj,M=Mmax)\n",
    "# print(max(A))\n",
    "\n",
    "sns.histplot(kde=True, data=R,color= 'indianred')\n",
    "sns.histplot(kde= False,data = B, color='royalblue')\n",
    "sns.histplot(kde=False, data = A, color='lightsalmon')\n",
    "plt.axvline(limiar, 0,1,c='r',linestyle='--')\n",
    "# plt.xlim([-5,len(A)/20])\n",
    "texto = 'SNR = '+str(listaSNRs[-1])\n",
    "plt.legend(['RUÍDO','limiar',texto, 'SNR = -20'])\n",
    "plt.ylabel('# medidas')\n",
    "plt.xlabel('Amplitude do sinal')\n",
    "plt.title('Distribuição dos sinais em duas SNR')"
   ]
  }
 ],
 "metadata": {
  "interpreter": {
   "hash": "cfa9f19be2613e4579a58a9987011ae958af41d7e96c35562382e4ee706b270d"
  },
  "kernelspec": {
   "display_name": "Python 3.8.8 64-bit",
   "name": "python3"
  },
  "language_info": {
   "codemirror_mode": {
    "name": "ipython",
    "version": 3
   },
   "file_extension": ".py",
   "mimetype": "text/x-python",
   "name": "python",
   "nbconvert_exporter": "python",
   "pygments_lexer": "ipython3",
   "version": "3.8.8"
  },
  "orig_nbformat": 4
 },
 "nbformat": 4,
 "nbformat_minor": 2
}
