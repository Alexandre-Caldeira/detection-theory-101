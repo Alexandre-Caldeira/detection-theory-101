{
 "cells": [
  {
   "cell_type": "code",
   "execution_count": 2,
   "source": [
    "import pandas as pd\r\n",
    "import seaborn as sns\r\n",
    "import matplotlib.pyplot as plt\r\n",
    "import numpy as np\r\n",
    "from numpy import random as rd\r\n",
    "%matplotlib inline\r\n",
    "plt.rcParams['figure.figsize'] = [20, 8]\r\n",
    "plt.rcParams['figure.dpi'] = 100 # 200 e.g. is really fine, but slower\r\n",
    "sns.set_theme(context=\"notebook\")\r\n",
    "\r\n",
    "# from scipy.fft import fft\r\n",
    "from numpy.fft import fft,fftfreq\r\n"
   ],
   "outputs": [],
   "metadata": {}
  },
  {
   "cell_type": "code",
   "execution_count": 10,
   "source": [
    "sinal = np.ones((10,10,2))\r\n",
    "z = np.zeros(np.shape(sinal))\r\n",
    "print(np.shape(z))"
   ],
   "outputs": [
    {
     "output_type": "stream",
     "name": "stdout",
     "text": [
      "(10, 10, 2)\n"
     ]
    }
   ],
   "metadata": {}
  },
  {
   "cell_type": "code",
   "execution_count": null,
   "source": [
    "def ord_MEDIA():\r\n",
    "    return ORD\r\n"
   ],
   "outputs": [],
   "metadata": {}
  },
  {
   "cell_type": "markdown",
   "source": [
    "<img src = \"sft.png\"/>"
   ],
   "metadata": {}
  },
  {
   "cell_type": "code",
   "execution_count": null,
   "source": [
    "def ord_SFT(sinal, tamanhoLaterais, fSinal=-1, fAmostragem=-1):\r\n",
    "    if fAmostragem == -1 and fSinal==-1:\r\n",
    "        print('Retornando fft:')\r\n",
    "        SINAL = fft(sinal)\r\n",
    "\r\n",
    "        return [SINAL,np.zeros(np.shape(sinal))]\r\n",
    "\r\n",
    "    elif fSinal*fAmostragem <0:\r\n",
    "        if fSinal== -1:\r\n",
    "            print('Necessário argumento de frequência do SINAL ORIGINAL!')\r\n",
    "\r\n",
    "        if  fAmostragem== -1:\r\n",
    "            print('Necessário argumento de frequência do SINAL ORIGINAL!')\r\n",
    "        \r\n",
    "        return [np.zeros(np.shape(sinal)),np.zeros(np.shape(sinal))]\r\n",
    "\r\n",
    "    else:\r\n",
    "        SINAL = fft(sinal)\r\n",
    "        freqs = fftfreq(len(sinal))*fAmostragem\r\n",
    "\r\n",
    "        DEN =np.abs(SINAL[freqs==fSinal])**2\r\n",
    "        # NUM = SINAL[]\r\n",
    "        SFT = DEN/NUM\r\n",
    "    \r\n",
    "    return [SINAL,SFT]"
   ],
   "outputs": [],
   "metadata": {}
  },
  {
   "cell_type": "markdown",
   "source": [
    "<img src = \"csm.png\"/>"
   ],
   "metadata": {}
  },
  {
   "cell_type": "code",
   "execution_count": null,
   "source": [
    "def ord_CSM(sinal, tamanhoJanela, M):\r\n",
    "    if len(sinal)-tamanhoJanela*M>=0:\r\n",
    "        \r\n",
    "        sinal = np.reshape(sinal[0:tamanhoJanela*M], (tamanhoJanela,M))\r\n",
    "\r\n",
    "        SINAL = fft(sinal)\r\n",
    "\r\n",
    "        CSM = (np.sum(np.cos(np.angle(SINAL)),axis=1)/M)**2 + (np.sum(np.sin(np.angle(SINAL)),axis=1)/M)**2\r\n",
    "\r\n",
    "        return [SINAL,CSM]\r\n",
    "    else:\r\n",
    "        print('Erro no número de janelas', tamanhoJanela,'(ou amostras,M =', M,') escolhido.')\r\n",
    "        print(len(sinal)-M*tamanhoJanela)\r\n",
    "        print('(Retorna 0)')\r\n",
    "        return 0 "
   ],
   "outputs": [],
   "metadata": {}
  },
  {
   "cell_type": "code",
   "execution_count": null,
   "source": [],
   "outputs": [],
   "metadata": {}
  },
  {
   "cell_type": "code",
   "execution_count": null,
   "source": [
    "def ord_MSC():\r\n",
    "    return ORD"
   ],
   "outputs": [],
   "metadata": {}
  },
  {
   "cell_type": "code",
   "execution_count": null,
   "source": [],
   "outputs": [],
   "metadata": {}
  }
 ],
 "metadata": {
  "orig_nbformat": 4,
  "language_info": {
   "name": "python",
   "version": "3.8.8",
   "mimetype": "text/x-python",
   "codemirror_mode": {
    "name": "ipython",
    "version": 3
   },
   "pygments_lexer": "ipython3",
   "nbconvert_exporter": "python",
   "file_extension": ".py"
  },
  "kernelspec": {
   "name": "python3",
   "display_name": "Python 3.8.8 64-bit"
  },
  "interpreter": {
   "hash": "cfa9f19be2613e4579a58a9987011ae958af41d7e96c35562382e4ee706b270d"
  }
 },
 "nbformat": 4,
 "nbformat_minor": 2
}