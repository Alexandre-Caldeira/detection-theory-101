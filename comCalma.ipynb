{
 "cells": [
  {
   "cell_type": "markdown",
   "source": [
    "# 1 - Imports e Setup $\\sqrt{}$\r\n",
    "$\\alpha := 5 \\%$ !!!"
   ],
   "metadata": {}
  },
  {
   "cell_type": "code",
   "execution_count": 1,
   "source": [
    "import pandas as pd\r\n",
    "import seaborn as sns\r\n",
    "import matplotlib.pyplot as plt\r\n",
    "import numpy as np\r\n",
    "from numpy import random as rd\r\n",
    "%matplotlib inline\r\n",
    "plt.rcParams['figure.figsize'] = [20, 8]\r\n",
    "plt.rcParams['figure.dpi'] = 100 # 200 e.g. is really fine, but slower\r\n",
    "sns.set_theme(context=\"notebook\")\r\n",
    "from tqdm import tqdm\r\n",
    "\r\n",
    "# scipy.fft é melhor !\r\n",
    "# https://stackoverflow.com/questions/6363154/what-is-the-difference-between-numpy-fft-and-scipy-fftpack\r\n",
    "from scipy.fft import fft\r\n",
    "from scipy.fftpack.helper import fftfreq\r\n",
    "\r\n",
    "from scipy.stats import f as FDIST\r\n",
    "from scipy.stats.distributions import chi2"
   ],
   "outputs": [],
   "metadata": {}
  },
  {
   "cell_type": "code",
   "execution_count": 2,
   "source": [
    "# Calcula valor crítico em ORD qualquer, calculando quantil 95%\r\n",
    "def vc_pratico(ORD, alpha = 0.05):\r\n",
    "    return np.quantile(a= ORD, q = 1-alpha)"
   ],
   "outputs": [],
   "metadata": {}
  },
  {
   "cell_type": "markdown",
   "source": [
    "## 1.2 - Geração de sinais senoidais:"
   ],
   "metadata": {}
  },
  {
   "cell_type": "code",
   "execution_count": 3,
   "source": [
    "# ablsbalsblasa FFT, FFTFREQ, ETC"
   ],
   "outputs": [],
   "metadata": {}
  },
  {
   "cell_type": "markdown",
   "source": [
    "# 2 - Definições"
   ],
   "metadata": {}
  },
  {
   "cell_type": "markdown",
   "source": [
    "## 2.1 - SFT: Spectral F-Test"
   ],
   "metadata": {}
  },
  {
   "cell_type": "markdown",
   "source": [
    "### 2.1.1 - Definição e Funções"
   ],
   "metadata": {}
  },
  {
   "cell_type": "markdown",
   "source": [
    "<img src = \"sft.png\"/>"
   ],
   "metadata": {}
  },
  {
   "cell_type": "code",
   "execution_count": 4,
   "source": [
    "def vc_SFT(L, alpha = 0.05, VERBOSE = 0):\r\n",
    "    # valor crítico teórico, dado tomando inversa da distribuição acumulada F\r\n",
    "    # (Fisher-Snedecor)\r\n",
    "    # com significancia 1-alpha (95% se não for alterada)\r\n",
    "    vc = FDIST.ppf(1-alpha, 2,2*L) \r\n",
    "    \r\n",
    "    if VERBOSE==1:\r\n",
    "        print('Significância desejada: ',alpha*100,'\\b%')\r\n",
    "    if VERBOSE==2:\r\n",
    "        print('Significância desejada: ',alpha*100,'\\b%')\r\n",
    "        print('Valor crítico SFT: ',vc)\r\n",
    "\r\n",
    "    return vc\r\n",
    "        #fce999 TODO: perguntar por que 2 e 2*L!\r\n",
    "\r\n",
    "def ord_SFT(sinal, L, BIN):\r\n",
    "    # L: tamanho das laterais\r\n",
    "    SINAL = fft(sinal)\r\n",
    "\r\n",
    "    central = round(BIN) # certifica inteiro (não float)\r\n",
    "    lateralMenor = round(central-L/2)\r\n",
    "    lateralMaior = round(central+L/2)+1       \r\n",
    "\r\n",
    "    DEN =np.abs(SINAL[central])**2\r\n",
    "    SINAL_lateral = np.array(list(SINAL[lateralMenor:central])+list(SINAL[central+1:lateralMaior])) \r\n",
    "    NUM = (1/L)*np.sum(np.abs(SINAL_lateral)**2)\r\n",
    "    SFT = DEN/NUM\r\n",
    "    \r\n",
    "    return [SINAL,SFT]"
   ],
   "outputs": [],
   "metadata": {}
  },
  {
   "cell_type": "markdown",
   "source": [
    "## 2.2 - CSM: Component Synchrony Measure "
   ],
   "metadata": {}
  },
  {
   "cell_type": "markdown",
   "source": [
    "### 2.2.1 - Definição e Funções: "
   ],
   "metadata": {}
  },
  {
   "cell_type": "markdown",
   "source": [
    "<img src = \"csm.png\"/>"
   ],
   "metadata": {}
  },
  {
   "cell_type": "code",
   "execution_count": 5,
   "source": [
    "def vc_CSM(M, alpha = 0.05, VERBOSE=0):\r\n",
    "    vc = chi2.ppf(1-alpha,2)/(2*M)\r\n",
    "    \r\n",
    "    if VERBOSE==1:\r\n",
    "        print('Significância desejada: ',alpha*100,'\\b%')\r\n",
    "    if VERBOSE==2:\r\n",
    "        print('Significância desejada: ',alpha*100,'\\b%')\r\n",
    "        print('Valor crítico CSM: ',vc)\r\n",
    "\r\n",
    "    return vc\r\n",
    "\r\n",
    "\r\n",
    "def ord_CSM(sinal, tamanhoJanela, M):\r\n",
    "    if len(sinal)-tamanhoJanela*M>=0:\r\n",
    "        \r\n",
    "        sinal = np.reshape(sinal[0:tamanhoJanela*M], (tamanhoJanela,M))\r\n",
    "\r\n",
    "\r\n",
    "        FFT_SINAL = fft(sinal)\r\n",
    "\r\n",
    "        CSM = (np.sum(np.cos(np.angle(FFT_SINAL)),axis=1)/M)**2 + (np.sum(np.sin(np.angle(FFT_SINAL)),axis=1)/M)**2\r\n",
    "\r\n",
    "        return [FFT_SINAL,CSM]\r\n",
    "    else:\r\n",
    "        print('Erro no número de janelas', round(tamanhoJanela),'(ou amostras, M =', M,'\\b) escolhido.')\r\n",
    "        print('Tamanho do Sinal menos M*tamanhoJanela:', len(sinal)-M*tamanhoJanela)\r\n",
    "        print('(Retorna 0)')\r\n",
    "        return 0 "
   ],
   "outputs": [],
   "metadata": {}
  },
  {
   "cell_type": "markdown",
   "source": [
    "## 2.3 - MSC: Magnitude-Squared Coherence"
   ],
   "metadata": {}
  },
  {
   "cell_type": "markdown",
   "source": [
    "### 2.3.1 - Definição e Funções"
   ],
   "metadata": {}
  },
  {
   "cell_type": "markdown",
   "source": [
    "<img src = \"msc.png\"/>"
   ],
   "metadata": {}
  },
  {
   "cell_type": "code",
   "execution_count": 6,
   "source": [
    "def vc_MSC(M, alpha = 0.05, VERBOSE = 0):\r\n",
    "    vc = 1-alpha**(1/(M-1))\r\n",
    "    if VERBOSE==1:\r\n",
    "        print('Significância desejada: ',alpha*100,'\\b%')\r\n",
    "    if VERBOSE==2:\r\n",
    "        print('Significância desejada: ',alpha*100,'\\b%')\r\n",
    "        print('Valor crítico MSC: ',vc)\r\n",
    "    return vc # valor crítico\r\n",
    "\r\n",
    "def ord_MSC(sinal, tamanhoJanela, M):\r\n",
    "    sinal = np.reshape(sinal[0:tamanhoJanela*M], (tamanhoJanela,M))\r\n",
    "\r\n",
    "    SINAL = fft(sinal)\r\n",
    "    \r\n",
    "    MSC = (np.abs(np.sum(SINAL,axis=1))**2) / (M*np.sum(np.abs(SINAL)**2,axis=1))\r\n",
    "\r\n",
    "    return [SINAL,MSC]"
   ],
   "outputs": [],
   "metadata": {}
  },
  {
   "cell_type": "markdown",
   "source": [
    "## 2.4 - Controle de significância (MSC)"
   ],
   "metadata": {}
  },
  {
   "cell_type": "markdown",
   "source": [
    "### 2.4.1 - Definindo:"
   ],
   "metadata": {}
  },
  {
   "cell_type": "code",
   "execution_count": 7,
   "source": [
    "# Usando sequencial generalizado, queremos FP= 5% no teste GERAL! Qual deve ser FPi (cada iteração)?\r\n",
    "\r\n",
    "def corrige_alfaMSC(\r\n",
    "    tj = 100, # cada janela um segundo \r\n",
    "    Mmin = 10,\r\n",
    "    Mstep = 10,\r\n",
    "    Mmax = 60,\r\n",
    "    BIN = 7,\r\n",
    "    alphaD = 5/100,  #fff significancia a atingir\r\n",
    "    alphaInicial = -1,\r\n",
    "    tx_apr = 0.02,    # taxa de aprendizado\r\n",
    "    nSim = 1e3, \r\n",
    "    itMAX = 300,\r\n",
    "    VERBOSE = 1):\r\n",
    "\r\n",
    "    print('\\nCalculando alpha corrigido para alphaD =', alphaD)\r\n",
    "\r\n",
    "    N = round(Mmax*tj)  # tamanho máximo do sinal\r\n",
    "    nSim = round(nSim)  # numero de simulações\r\n",
    "    if alphaInicial<0: alphas = [alphaD/(Mmax/Mstep)] # primeiro \"chute\" = alpha Desejado\r\n",
    "    else: alphas = [alphaInicial]\r\n",
    "    alphaR = 1   # significancia REAL\r\n",
    "    it = 1  # iteração atual\r\n",
    "\r\n",
    "    while alphaR > alphaD and it <= itMAX:\r\n",
    "        if it>1:\r\n",
    "            # Se J = mse = e^2 (univariado), então:\r\n",
    "            grad = 2*alphaR - alphaD\r\n",
    "            alphas.append(alphas[-1] -tx_apr*(grad))\r\n",
    "\r\n",
    "        descricao = 'Iteração #'+str(it); it+=1; nd = 0; \r\n",
    "        \r\n",
    "        if VERBOSE>=2:\r\n",
    "            for _ in tqdm(range(1,nSim+1), leave=(VERBOSE>1), desc=descricao):\r\n",
    "                x = rd.randn(N) # gera o \"sinal\" completo\r\n",
    "                for M in range(Mmin, Mmax+Mstep,Mstep):\r\n",
    "                    vc = vc_MSC(M,alpha=alphas[-1])            \r\n",
    "                    [_, ORD]= ord_MSC(sinal=x, tamanhoJanela=tj, M=M)\r\n",
    "                    if ORD[BIN]>vc: nd+=1\r\n",
    "\r\n",
    "        if VERBOSE==1:\r\n",
    "            for _ in tqdm(range(1,nSim+1), leave=False):\r\n",
    "                x = rd.randn(N) # gera o \"sinal\" completo\r\n",
    "                for M in range(Mmin, Mmax+Mstep,Mstep):\r\n",
    "                    vc = vc_MSC(M,alpha=alphas[-1])            \r\n",
    "                    [_, ORD]= ord_MSC(sinal=x, tamanhoJanela=tj, M=M)\r\n",
    "                    if ORD[BIN]>vc: nd+=1\r\n",
    "\r\n",
    "        else:\r\n",
    "            for _ in range(1,nSim+1):\r\n",
    "                x = rd.randn(N) # gera o \"sinal\" completo\r\n",
    "                for M in range(Mmin, Mmax+Mstep,Mstep):\r\n",
    "                    vc = vc_MSC(M,alpha=alphas[-1])            \r\n",
    "                    [_, ORD]= ord_MSC(sinal=x, tamanhoJanela=tj, M=M)\r\n",
    "                    if ORD[BIN]>vc: nd+=1\r\n",
    "\r\n",
    "        alphaR = nd/(nSim*(Mmax/Mstep))\r\n",
    "\r\n",
    "\r\n",
    "        if VERBOSE==3:\r\n",
    "            print('Significancia atingida:',round(alphaR*100,ndigits=3),'\\b%')\r\n",
    "            print('Alpha corrigido:', round(alphas[-1],ndigits=3))\r\n",
    "\r\n",
    "    if VERBOSE==1:\r\n",
    "        print('Significancia atingida:',round(alphaR*100,ndigits=3),'\\b%')\r\n",
    "        print('Alpha corrigido:', round(alphas[-1],ndigits=4))\r\n",
    "    \r\n",
    "    if it>=itMAX: \r\n",
    "        print('Iteração máxima (',itMAX,') atingida!')\r\n",
    "        print('Significancia alcançada:',round(alphaR*100,ndigits=3),'\\b%')\r\n",
    "        print('Retornando último valor de alpha corrigido: ', round(alphas[-1],ndigits=4))\r\n",
    "    \r\n",
    "    return alphas[-1]\r\n",
    "\r\n",
    "# Exemplo:\r\n",
    "print(corrige_alfaMSC(alphaD=0.04,VERBOSE=3))"
   ],
   "outputs": [
    {
     "output_type": "stream",
     "name": "stdout",
     "text": [
      "\n",
      "Calculando alpha corrigido para alphaD = 0.04\n"
     ]
    },
    {
     "output_type": "stream",
     "name": "stderr",
     "text": [
      "Iteração #1: 100%|██████████| 1000/1000 [00:00<00:00, 1023.18it/s]\n"
     ]
    },
    {
     "output_type": "stream",
     "name": "stdout",
     "text": [
      "Significancia atingida: 5.117%\n",
      "Alpha corrigido: 0.007\n"
     ]
    },
    {
     "output_type": "stream",
     "name": "stderr",
     "text": [
      "Iteração #2: 100%|██████████| 1000/1000 [00:00<00:00, 1282.05it/s]\n"
     ]
    },
    {
     "output_type": "stream",
     "name": "stdout",
     "text": [
      "Significancia atingida: 4.85%\n",
      "Alpha corrigido: 0.005\n"
     ]
    },
    {
     "output_type": "stream",
     "name": "stderr",
     "text": [
      "Iteração #3: 100%|██████████| 1000/1000 [00:00<00:00, 1082.25it/s]\n"
     ]
    },
    {
     "output_type": "stream",
     "name": "stdout",
     "text": [
      "Significancia atingida: 3.85%\n",
      "Alpha corrigido: 0.004\n",
      "0.00428\n"
     ]
    }
   ],
   "metadata": {}
  },
  {
   "cell_type": "markdown",
   "source": [
    "# 3 - Validando meus resultados: "
   ],
   "metadata": {}
  },
  {
   "cell_type": "markdown",
   "source": [
    "## 3.1 - Validação teste da média:"
   ],
   "metadata": {}
  },
  {
   "cell_type": "code",
   "execution_count": 8,
   "source": [
    "# MC"
   ],
   "outputs": [],
   "metadata": {}
  },
  {
   "cell_type": "markdown",
   "source": [
    "## 3.2 - Validação vc_SFT:"
   ],
   "metadata": {}
  },
  {
   "cell_type": "markdown",
   "source": [
    "### 3.2.1 - Validação do valor crítico:"
   ],
   "metadata": {}
  },
  {
   "cell_type": "code",
   "execution_count": 12,
   "source": [
    "# MC:\r\n",
    "nSim = round(500) # numero de simulações\r\n",
    "N = 500  # \"duração\" do sinal\r\n",
    "bin = 50 # um bin qualquer\r\n",
    "Ls = np.arange(2,30,1)   # tamanho qualquer \r\n",
    "x = np.zeros((N,))\r\n",
    "vcp = np.zeros((nSim,len(Ls)))\r\n",
    "vct = np.zeros((nSim,len(Ls)))\r\n",
    "oo = np.zeros((nSim,))\r\n",
    "\r\n",
    "for ll in tqdm(range(0,len(Ls)), desc='Simulando'):\r\n",
    "    for ii in range(0,nSim):\r\n",
    "        x = rd.randn(N,)\r\n",
    "        [X,ORD] = ord_SFT(sinal=x, L=Ls[ll], BIN= bin)\r\n",
    "        oo[ii] = ORD\r\n",
    "        vct[ii][ll] = vc_SFT(Ls[ll])\r\n",
    "    \r\n",
    "    vcp[ll] = vc_pratico(oo) # alpha definido a 5%\r\n",
    "\r\n",
    "print('Pronto')"
   ],
   "outputs": [
    {
     "output_type": "stream",
     "name": "stderr",
     "text": [
      "Simulando: 100%|██████████| 28/28 [00:02<00:00, 10.55it/s]"
     ]
    },
    {
     "output_type": "stream",
     "name": "stdout",
     "text": [
      "Pronto\n"
     ]
    },
    {
     "output_type": "stream",
     "name": "stderr",
     "text": [
      "\n"
     ]
    }
   ],
   "metadata": {}
  },
  {
   "cell_type": "code",
   "execution_count": 13,
   "source": [
    "# print(np.mean(vcp,axis=1))\r\n",
    "p = sns.lineplot(data = np.mean(vcp,axis=1), color = 'lightsalmon') \r\n",
    "p = sns.lineplot(data = np.mean(vct,axis=0), color = 'royalblue') \r\n",
    "\r\n",
    "plt.xticks(np.arange(0,max(Ls),1));\r\n",
    "plt.xlim([2, max(Ls)-1]);\r\n",
    "plt.ylim([0,10]);\r\n",
    "plt.title('Convergência do cálculo do valor crítico: SFT');\r\n",
    "plt.ylabel('Valor Crítico da SFT');\r\n",
    "plt.xlabel('Tamanho das bandas laterais [L]');\r\n",
    "\r\n",
    "sns.scatterplot(data = np.mean(vcp,axis=1), color = 'lightsalmon'); \r\n",
    "sns.scatterplot(data = np.mean(vct,axis=0), color = 'royalblue'); \r\n",
    "plt.legend(['PRÁTICO','TEÓRICO']);"
   ],
   "outputs": [
    {
     "output_type": "display_data",
     "data": {
      "image/png": "[encoded data removed]",
      "text/plain": [
       "<Figure size 2000x800 with 1 Axes>"
      ]
     },
     "metadata": {}
    }
   ],
   "metadata": {}
  },
  {
   "cell_type": "markdown",
   "source": [
    "### 3.2.2 - Validação MC SFT:"
   ],
   "metadata": {}
  },
  {
   "cell_type": "code",
   "execution_count": null,
   "source": [],
   "outputs": [],
   "metadata": {}
  },
  {
   "cell_type": "markdown",
   "source": [
    "## 3.3 Validação CSM:"
   ],
   "metadata": {}
  },
  {
   "cell_type": "markdown",
   "source": [
    "### 3.3.1 - Validação do valor crítico:"
   ],
   "metadata": {}
  },
  {
   "cell_type": "markdown",
   "source": [
    "### 3.3.2 - Validação MC CMS:"
   ],
   "metadata": {}
  }
 ],
 "metadata": {
  "orig_nbformat": 4,
  "language_info": {
   "name": "python",
   "version": "3.8.8",
   "mimetype": "text/x-python",
   "codemirror_mode": {
    "name": "ipython",
    "version": 3
   },
   "pygments_lexer": "ipython3",
   "nbconvert_exporter": "python",
   "file_extension": ".py"
  },
  "kernelspec": {
   "name": "python3",
   "display_name": "Python 3.8.8 64-bit"
  },
  "interpreter": {
   "hash": "cfa9f19be2613e4579a58a9987011ae958af41d7e96c35562382e4ee706b270d"
  }
 },
 "nbformat": 4,
 "nbformat_minor": 2
}