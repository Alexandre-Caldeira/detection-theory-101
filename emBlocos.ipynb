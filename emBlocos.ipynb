{
 "cells": [
  {
   "cell_type": "markdown",
   "source": [
    "# Imports e Setup $\\sqrt{}$\r\n",
    "$\\alpha := 5 \\%$ !!!"
   ],
   "metadata": {}
  },
  {
   "cell_type": "code",
   "execution_count": 4,
   "source": [
    "import pandas as pd\r\n",
    "import seaborn as sns\r\n",
    "import matplotlib.pyplot as plt\r\n",
    "import numpy as np\r\n",
    "from numpy import random as rd\r\n",
    "%matplotlib inline\r\n",
    "plt.rcParams['figure.figsize'] = [20, 8]\r\n",
    "plt.rcParams['figure.dpi'] = 100 # 200 e.g. is really fine, but slower\r\n",
    "sns.set_theme(context=\"notebook\")\r\n",
    "from tqdm import tqdm\r\n",
    "\r\n",
    "# scipy.fft é melhor !\r\n",
    "# https://stackoverflow.com/questions/6363154/what-is-the-difference-between-numpy-fft-and-scipy-fftpack\r\n",
    "from scipy.fft import fft\r\n",
    "from scipy.fftpack.helper import fftfreq\r\n",
    "# from numpy.fft import fft,fftfreq\r\n",
    "\r\n",
    "from scipy.stats import f as FDIST\r\n",
    "from scipy.stats.distributions import chi2"
   ],
   "outputs": [],
   "metadata": {}
  },
  {
   "cell_type": "code",
   "execution_count": 5,
   "source": [
    "# Calcula valor crítico em ORD qualquer, calculando quantil 95%\r\n",
    "def vc_pratico(ORD, alpha = 0.05):\r\n",
    "    return np.quantile(a= ORD, q = 1-alpha)"
   ],
   "outputs": [],
   "metadata": {}
  },
  {
   "cell_type": "markdown",
   "source": [
    "# SFT: Spectral F-Test $\\sqrt{}$"
   ],
   "metadata": {}
  },
  {
   "cell_type": "markdown",
   "source": [
    "## Definição e Funções"
   ],
   "metadata": {}
  },
  {
   "cell_type": "markdown",
   "source": [
    "<img src = \"sft.png\"/>"
   ],
   "metadata": {}
  },
  {
   "cell_type": "code",
   "execution_count": 3,
   "source": [
    "def vc_SFT(L, alpha = 0.05, VERBOSE = 0):\r\n",
    "    # valor crítico teórico, dado tomando inversa da distribuição acumulada F\r\n",
    "    # (Fisher-Snedecor)\r\n",
    "    # com significancia 1-alpha (95% se não for alterada)\r\n",
    "    vc = FDIST.ppf(1-alpha, 2,2*L) \r\n",
    "    \r\n",
    "    if VERBOSE==1:\r\n",
    "        print('Significância desejada: ',alpha*100,'\\b%')\r\n",
    "    if VERBOSE==2:\r\n",
    "        print('Significância desejada: ',alpha*100,'\\b%')\r\n",
    "        print('Valor crítico SFT: ',vc)\r\n",
    "\r\n",
    "    return vc\r\n",
    "        #fce999 TODO: perguntar por que 2 e 2*L!\r\n",
    "\r\n",
    "def ord_SFT(sinal, L, BIN):\r\n",
    "    # L: tamanho das laterais\r\n",
    "    SINAL = fft(sinal)\r\n",
    "\r\n",
    "    central = round(BIN) # certifica inteiro (não float)\r\n",
    "    lateralMenor = round(central-L/2)\r\n",
    "    lateralMaior = round(central+L/2)+1       \r\n",
    "\r\n",
    "    DEN =np.abs(SINAL[central])**2\r\n",
    "    SINAL_lateral = np.array(list(SINAL[lateralMenor:central])+list(SINAL[central+1:lateralMaior])) \r\n",
    "    NUM = (1/L)*np.sum(np.abs(SINAL_lateral)**2)\r\n",
    "    SFT = DEN/NUM\r\n",
    "    \r\n",
    "    return [SINAL,SFT]"
   ],
   "outputs": [],
   "metadata": {}
  },
  {
   "cell_type": "markdown",
   "source": [
    "## Single-shot"
   ],
   "metadata": {}
  },
  {
   "cell_type": "code",
   "execution_count": 4,
   "source": [
    "from tqdm import tqdm \r\n",
    "\r\n",
    "nSim = 1e4\r\n",
    "L = 6\r\n",
    "BIN = 30\r\n",
    "\r\n",
    "vc = vc_SFT(L=L,alpha=0.02)\r\n",
    "nd = 0\r\n",
    "hist = []\r\n",
    "\r\n",
    "for i in tqdm(range(1,round(nSim+1))):\r\n",
    "    x = np.zeros((round(nSim),))\r\n",
    "\r\n",
    "    x = rd.randn(round(nSim))\r\n",
    "    [X, ORD]= ord_SFT(sinal = x, L = L, BIN = BIN)\r\n",
    "    if ORD>vc: nd+=1\r\n",
    "\r\n",
    "\r\n",
    "print('Taxa de FP: '+str(nd/nSim *100))"
   ],
   "outputs": [
    {
     "output_type": "stream",
     "name": "stderr",
     "text": [
      "100%|██████████| 10000/10000 [00:03<00:00, 2660.08it/s]"
     ]
    },
    {
     "output_type": "stream",
     "name": "stdout",
     "text": [
      "Taxa de FP: 2.02\n"
     ]
    },
    {
     "output_type": "stream",
     "name": "stderr",
     "text": [
      "\n"
     ]
    }
   ],
   "metadata": {}
  },
  {
   "cell_type": "markdown",
   "source": [
    "# CSM: Component Synchrony Measure $\\sqrt{}$"
   ],
   "metadata": {}
  },
  {
   "cell_type": "markdown",
   "source": [
    "## Definição e Funções: "
   ],
   "metadata": {}
  },
  {
   "cell_type": "markdown",
   "source": [
    "<img src = \"csm.png\"/>"
   ],
   "metadata": {}
  },
  {
   "cell_type": "code",
   "execution_count": 5,
   "source": [
    "def vc_CSM(M, alpha = 0.05, VERBOSE=0):\r\n",
    "    vc = chi2.ppf(1-alpha,2)/(2*M)\r\n",
    "    \r\n",
    "    if VERBOSE==1:\r\n",
    "        print('Significância desejada: ',alpha*100,'\\b%')\r\n",
    "    if VERBOSE==2:\r\n",
    "        print('Significância desejada: ',alpha*100,'\\b%')\r\n",
    "        print('Valor crítico CSM: ',vc)\r\n",
    "\r\n",
    "    return vc\r\n",
    "\r\n",
    "\r\n",
    "def ord_CSM(sinal, tamanhoJanela, M):\r\n",
    "    if len(sinal)-tamanhoJanela*M>=0:\r\n",
    "        \r\n",
    "        sinal = np.reshape(sinal[0:tamanhoJanela*M], (tamanhoJanela,M))\r\n",
    "\r\n",
    "\r\n",
    "        FFT_SINAL = fft(sinal)\r\n",
    "\r\n",
    "        CSM = (np.sum(np.cos(np.angle(FFT_SINAL)),axis=1)/M)**2 + (np.sum(np.sin(np.angle(FFT_SINAL)),axis=1)/M)**2\r\n",
    "\r\n",
    "        return [FFT_SINAL,CSM]\r\n",
    "    else:\r\n",
    "        print('Erro no número de janelas', round(tamanhoJanela),'(ou amostras, M =', M,'\\b) escolhido.')\r\n",
    "        print('Tamanho do Sinal menos M*tamanhoJanela:', len(sinal)-M*tamanhoJanela)\r\n",
    "        print('(Retorna 0)')\r\n",
    "        return 0 "
   ],
   "outputs": [],
   "metadata": {}
  },
  {
   "cell_type": "markdown",
   "source": [
    "## Single-shot"
   ],
   "metadata": {}
  },
  {
   "cell_type": "code",
   "execution_count": 6,
   "source": [
    "from tqdm import tqdm \r\n",
    "\r\n",
    "nSim = round(1e4)\r\n",
    "\r\n",
    "fs = 100 # frequencia de amostragem\r\n",
    "tj = 100 # tamanho da janela (1 seg/janela, pra facilitar)\r\n",
    "M = 100 # teste em 100 segundos\r\n",
    "vc = vc_CSM(M)\r\n",
    "\r\n",
    "N = round(M*tj)\r\n",
    "BIN = 42\r\n",
    "nd = 0\r\n",
    "ndp = 0\r\n",
    "hist = []\r\n",
    "\r\n",
    "\r\n",
    "for i in tqdm(range(1,nSim+1)):\r\n",
    "    x = np.zeros((N,))\r\n",
    "\r\n",
    "    x = rd.randn(N)\r\n",
    "    [X, ORD]= ord_CSM(sinal=x, tamanhoJanela=tj, M=M)\r\n",
    "    # print(ORD)\r\n",
    "\r\n",
    "    if ORD[BIN]>vc: nd+=1\r\n",
    "\r\n",
    "    vcp = vc_pratico(ORD)\r\n",
    "    if ORD[BIN]>vcp: ndp+=1\r\n",
    "\r\n",
    "    hist.append(ORD)\r\n",
    "\r\n",
    "vcp = vc_pratico(hist)\r\n",
    "\r\n",
    "print('Taxa de FP: '+str(nd/nSim *100))\r\n"
   ],
   "outputs": [
    {
     "output_type": "stream",
     "name": "stderr",
     "text": [
      "100%|██████████| 10000/10000 [00:13<00:00, 750.40it/s]"
     ]
    },
    {
     "output_type": "stream",
     "name": "stdout",
     "text": [
      "Taxa de FP: 7.870000000000001\n"
     ]
    },
    {
     "output_type": "stream",
     "name": "stderr",
     "text": [
      "\n"
     ]
    }
   ],
   "metadata": {}
  },
  {
   "cell_type": "markdown",
   "source": [
    "### Gráfico de comparação entre VC Teórico e Prático\r\n",
    "\r\n",
    "> ~ COMPARAÇÕES ~"
   ],
   "metadata": {}
  },
  {
   "cell_type": "code",
   "execution_count": 7,
   "source": [
    "print('\\n ~ COMPARAÇÕES ~')\r\n",
    "print('Valor critico pratico: ',vcp)\r\n",
    "print('Valor critico teorico: ',vc)\r\n",
    "print('Erro relativo:' , round((vcp-vc)/vc*100,ndigits=2),'\\b%')\r\n",
    "\r\n",
    "print('Taxa de FP (vc_teorico): '+str(round(nd/nSim *100,ndigits=2)),'\\b%')\r\n",
    "print('Taxa de FP (vc_pratico): '+str(round(ndp/nSim *100,ndigits=2)),'\\b%')\r\n",
    "# sns.lineplot(y= hist,x=range(1,nSim+1));"
   ],
   "outputs": [
    {
     "output_type": "stream",
     "name": "stdout",
     "text": [
      "\n",
      " ~ COMPARAÇÕES ~\n",
      "Valor critico pratico:  0.03824475122598301\n",
      "Valor critico teorico:  0.029957322735539894\n",
      "Erro relativo: 27.66%\n",
      "Taxa de FP (vc_teorico): 7.87%\n",
      "Taxa de FP (vc_pratico): 4.58%\n"
     ]
    }
   ],
   "metadata": {}
  },
  {
   "cell_type": "markdown",
   "source": [
    "## Sequencial:"
   ],
   "metadata": {}
  },
  {
   "cell_type": "code",
   "execution_count": 8,
   "source": [
    "# Dois testes:\r\n",
    "from tqdm import tqdm \r\n",
    "\r\n",
    "nSim = 1e4\r\n",
    "\r\n",
    "fs = 126 \r\n",
    "tj = 126 # cada janela um segundo \r\n",
    "alfa = 0.05\r\n",
    "\r\n",
    "M1test = 31 # teste em 30 segundos \r\n",
    "M2test = 60 # teste em 60 segundos\r\n",
    "\r\n",
    "vc1 = vc_CSM(M1test)\r\n",
    "vc2 = vc_CSM(M2test)\r\n",
    "\r\n",
    "Mmax = M2test; \r\n",
    "N = Mmax *tj;\r\n",
    "BIN = 30\r\n",
    "nd = 0\r\n",
    "hist = []\r\n",
    "\r\n",
    "\r\n",
    "for i in tqdm(range(1,round(nSim+1))):\r\n",
    "    x = np.zeros((Mmax*tj,))\r\n",
    "\r\n",
    "    x[0:M1test*tj] = rd.randn(M1test*tj)\r\n",
    "    [X, ORD]= ord_CSM(sinal=x, tamanhoJanela=tj, M=M1test)\r\n",
    "\r\n",
    "    if ORD[BIN]>vc1: nd+=1\r\n",
    "    else:\r\n",
    "        x[M1test*tj:tj*M2test+1] = rd.randn((M2test-M1test)*tj)\r\n",
    "        [X, ORD]= ord_CSM(sinal=x, tamanhoJanela=tj, M=M2test)\r\n",
    "        if ORD[BIN]>vc2: nd+=1\r\n",
    "\r\n",
    "\r\n",
    "print('Taxa de FP: '+str(round(nd/nSim *100,ndigits=2)),'\\b%')"
   ],
   "outputs": [
    {
     "output_type": "stream",
     "name": "stderr",
     "text": [
      "100%|██████████| 10000/10000 [00:13<00:00, 717.42it/s]"
     ]
    },
    {
     "output_type": "stream",
     "name": "stdout",
     "text": [
      "Taxa de FP: 15.49%\n"
     ]
    },
    {
     "output_type": "stream",
     "name": "stderr",
     "text": [
      "\n"
     ]
    }
   ],
   "metadata": {}
  },
  {
   "cell_type": "markdown",
   "source": [
    "# MSC: Magnitude-Squared Coherence $\\sqrt{}$"
   ],
   "metadata": {}
  },
  {
   "cell_type": "markdown",
   "source": [
    "## Definição e Funções"
   ],
   "metadata": {}
  },
  {
   "cell_type": "markdown",
   "source": [
    "<img src = \"msc.png\"/>"
   ],
   "metadata": {}
  },
  {
   "cell_type": "code",
   "execution_count": 8,
   "source": [
    "def vc_MSC(M, alpha = 0.05, VERBOSE = 0):\r\n",
    "    vc = 1-alpha**(1/(M-1))\r\n",
    "    if VERBOSE==1:\r\n",
    "        print('Significância desejada: ',alpha*100,'\\b%')\r\n",
    "    if VERBOSE==2:\r\n",
    "        print('Significância desejada: ',alpha*100,'\\b%')\r\n",
    "        print('Valor crítico MSC: ',vc)\r\n",
    "    return vc # valor crítico\r\n",
    "\r\n",
    "def ord_MSC(sinal, tamanhoJanela, M):\r\n",
    "    sinal = np.reshape(sinal[0:tamanhoJanela*M], (tamanhoJanela,M))\r\n",
    "\r\n",
    "    SINAL = fft(sinal)\r\n",
    "    \r\n",
    "    MSC = np.abs(np.sum(SINAL,axis=1))**2 / (M*np.sum(np.abs(SINAL)**2,axis=1))\r\n",
    "\r\n",
    "    return [SINAL,MSC]"
   ],
   "outputs": [],
   "metadata": {}
  },
  {
   "cell_type": "markdown",
   "source": [
    "## Single-shot:"
   ],
   "metadata": {}
  },
  {
   "cell_type": "code",
   "execution_count": 10,
   "source": [
    "from tqdm import tqdm \r\n",
    "\r\n",
    "nSim = round(1e4)\r\n",
    "\r\n",
    "fs = 100 # frequencia de amostragem\r\n",
    "tj = 100 # tamanho da janela (1 seg/janela, pra facilitar)\r\n",
    "M = 301 # teste em 100 segundos\r\n",
    "vc = vc_MSC(M)\r\n",
    "\r\n",
    "N = round(M*tj)\r\n",
    "BIN = 30\r\n",
    "nd = 0\r\n",
    "ndp = 0\r\n",
    "hist = []\r\n",
    "\r\n",
    "\r\n",
    "for i in tqdm(range(1,nSim+1)):\r\n",
    "    x = np.zeros((N,))\r\n",
    "\r\n",
    "    x = rd.randn(N)\r\n",
    "    [X, ORD]= ord_MSC(sinal=x, tamanhoJanela=tj, M=M)\r\n",
    "    \r\n",
    "\r\n",
    "    if ORD[BIN]>vc: nd+=1\r\n",
    "    if ORD[BIN]>vc_pratico(ORD): ndp+=1\r\n",
    "\r\n",
    "# Só por comparação e discussão:\r\n",
    "print('\\n ~ COMPARAÇÕES ~')\r\n",
    "print('Valor critico pratico: ',vc_pratico(ORD))\r\n",
    "\r\n",
    "print('Taxa de FP (vc_t): '+str(round(nd/nSim *100,ndigits=2)),'\\b%')\r\n",
    "print('Taxa de FP (vc_p): '+str(round(ndp/nSim *100,ndigits=2)),'\\b%')"
   ],
   "outputs": [
    {
     "output_type": "stream",
     "name": "stderr",
     "text": [
      "100%|██████████| 10000/10000 [00:17<00:00, 559.71it/s]"
     ]
    },
    {
     "output_type": "stream",
     "name": "stdout",
     "text": [
      "\n",
      " ~ COMPARAÇÕES ~\n",
      "Valor critico pratico:  0.01256237097860481\n",
      "Taxa de FP (vc_t): 8.42%\n",
      "Taxa de FP (vc_p): 5.02%\n"
     ]
    },
    {
     "output_type": "stream",
     "name": "stderr",
     "text": [
      "\n"
     ]
    }
   ],
   "metadata": {}
  },
  {
   "cell_type": "markdown",
   "source": [
    "## Sequencial:"
   ],
   "metadata": {}
  },
  {
   "cell_type": "code",
   "execution_count": 11,
   "source": [
    "# Apenas 2 testes (exempo):\r\n",
    "from tqdm import tqdm \r\n",
    "\r\n",
    "nSim = 1e4\r\n",
    "\r\n",
    "fs = 126 \r\n",
    "tj = 126 # cada janela um segundo \r\n",
    "alfa = 0.05\r\n",
    "\r\n",
    "M1test = 31 # teste em 30 segundos \r\n",
    "M2test = 60 # teste em 60 segundos\r\n",
    "\r\n",
    "vc1 = vc_MSC(M1test)\r\n",
    "vc2 = vc_MSC(M2test)\r\n",
    "\r\n",
    "Mmax = M2test; \r\n",
    "N = Mmax *tj\r\n",
    "BIN = 30\r\n",
    "nd = 0\r\n",
    "hist = []\r\n",
    "\r\n",
    "\r\n",
    "for i in tqdm(range(1,round(nSim+1))):\r\n",
    "    x = np.zeros((Mmax*tj,))\r\n",
    "\r\n",
    "    x[0:M1test*tj] = rd.randn(M1test*tj)\r\n",
    "    [X, ORD]= ord_MSC(sinal=x, tamanhoJanela=tj, M=M1test)\r\n",
    "\r\n",
    "    if ORD[BIN]>vc1: nd+=1\r\n",
    "    else:\r\n",
    "        x[M1test*tj:tj*M2test+1] = rd.randn((M2test-M1test)*tj)\r\n",
    "        [X, ORD]= ord_MSC(sinal=x, tamanhoJanela=tj, M=M2test)\r\n",
    "        if ORD[BIN]>vc2: nd+=1\r\n",
    "\r\n",
    "\r\n",
    "print('Taxa de FP: '+str(nd/nSim *100),'\\b%')"
   ],
   "outputs": [
    {
     "output_type": "stream",
     "name": "stderr",
     "text": [
      "100%|██████████| 10000/10000 [00:05<00:00, 1774.38it/s]"
     ]
    },
    {
     "output_type": "stream",
     "name": "stdout",
     "text": [
      "Taxa de FP: 16.48%\n"
     ]
    },
    {
     "output_type": "stream",
     "name": "stderr",
     "text": [
      "\n"
     ]
    }
   ],
   "metadata": {}
  },
  {
   "cell_type": "code",
   "execution_count": 12,
   "source": [
    "# Sequencial generalizado:\r\n",
    "from tqdm import tqdm \r\n",
    "\r\n",
    "nSim = round(1e4)\r\n",
    "\r\n",
    "fs = 100 \r\n",
    "tj = 100 # cada janela um segundo \r\n",
    "alfa = 0.05\r\n",
    "\r\n",
    "M = 30 # teste em 30 segundos\r\n",
    "Mstep = 10\r\n",
    "\r\n",
    "vc = vc_MSC(M)\r\n",
    "\r\n",
    "Mmax = 90; \r\n",
    "N = round(Mmax*tj)\r\n",
    "BIN = 30\r\n",
    "nd = 0\r\n",
    "hist = []\r\n",
    "\r\n",
    "\r\n",
    "for i in tqdm(range(1,nSim+1)):\r\n",
    "    x = np.zeros((N,))\r\n",
    "    x = rd.randn(N)\r\n",
    "\r\n",
    "    for M_atual in range(M, Mmax, Mstep):\r\n",
    "        [X, ORD]= ord_MSC(sinal=x, tamanhoJanela=tj, M=M_atual)\r\n",
    "\r\n",
    "        if ORD[BIN]>vc: nd+=1\r\n",
    "\r\n",
    "print('Taxa de FP: '+str(nd/nSim *100),'\\b%')"
   ],
   "outputs": [
    {
     "output_type": "stream",
     "name": "stderr",
     "text": [
      "100%|██████████| 10000/10000 [00:13<00:00, 714.98it/s]"
     ]
    },
    {
     "output_type": "stream",
     "name": "stdout",
     "text": [
      "Taxa de FP: 18.029999999999998%\n"
     ]
    },
    {
     "output_type": "stream",
     "name": "stderr",
     "text": [
      "\n"
     ]
    }
   ],
   "metadata": {}
  },
  {
   "cell_type": "markdown",
   "source": [
    "# Controle de significância (MSC) $\\sqrt{}$"
   ],
   "metadata": {}
  },
  {
   "cell_type": "markdown",
   "source": [
    "## Definindo:"
   ],
   "metadata": {}
  },
  {
   "cell_type": "code",
   "execution_count": 26,
   "source": [
    "# Usando sequencial generalizado, queremos FP= 5% no teste GERAL! Qual deve ser FPi (cada iteração)?\r\n",
    "\r\n",
    "def corrige_alfaMSC(\r\n",
    "    tj = 100, # cada janela um segundo \r\n",
    "    Mmin = 10,\r\n",
    "    Mstep = 10,\r\n",
    "    Mmax = 60,\r\n",
    "    BIN = 7,\r\n",
    "    alphaD = 5/100,  #fff significancia a atingir\r\n",
    "    alphaInicial = -1,\r\n",
    "    tx_apr = 0.1,    # taxa de aprendizado\r\n",
    "    nSim = 1e3, \r\n",
    "    itMAX = 300,\r\n",
    "    VERBOSE = 1):\r\n",
    "\r\n",
    "    print('\\nCalculando alpha corrigido para alphaD =', alphaD)\r\n",
    "\r\n",
    "    N = round(Mmax*tj)  # tamanho máximo do sinal\r\n",
    "    nSim = round(nSim)  # numero de simulações\r\n",
    "    if alphaInicial<0: alphas = [alphaD/(Mmax/Mstep)] # primeiro \"chute\" = alpha Desejado\r\n",
    "    alphaR = 1   # significancia REAL\r\n",
    "    it = 1  # iteração atual\r\n",
    "\r\n",
    "    while alphaR > alphaD and it <= itMAX:\r\n",
    "        if it>1:\r\n",
    "            # Se J = mse = e^2 (univariado), então:\r\n",
    "            grad = 2*alphas[-1] - alphaD\r\n",
    "            alphas.append(alphas[-1] +tx_apr*(grad))\r\n",
    "\r\n",
    "        descricao = 'Iteração #'+str(it); it+=1; nd = 0; \r\n",
    "        \r\n",
    "        if VERBOSE>=2:\r\n",
    "            for _ in tqdm(range(1,nSim+1), leave=(VERBOSE>1), desc=descricao):\r\n",
    "                x = rd.randn(N) # gera o \"sinal\" completo\r\n",
    "                for M in range(Mmin, Mmax+Mstep,Mstep):\r\n",
    "                    vc = vc_MSC(M,alpha=alphas[-1])            \r\n",
    "                    [_, ORD]= ord_MSC(sinal=x, tamanhoJanela=tj, M=M)\r\n",
    "                    if ORD[BIN]>vc: nd+=1\r\n",
    "\r\n",
    "        if VERBOSE==1:\r\n",
    "            for _ in tqdm(range(1,nSim+1), leave=False):\r\n",
    "                x = rd.randn(N) # gera o \"sinal\" completo\r\n",
    "                for M in range(Mmin, Mmax+Mstep,Mstep):\r\n",
    "                    vc = vc_MSC(M,alpha=alphas[-1])            \r\n",
    "                    [_, ORD]= ord_MSC(sinal=x, tamanhoJanela=tj, M=M)\r\n",
    "                    if ORD[BIN]>vc: nd+=1\r\n",
    "\r\n",
    "        else:\r\n",
    "            for _ in range(1,nSim+1):\r\n",
    "                x = rd.randn(N) # gera o \"sinal\" completo\r\n",
    "                for M in range(Mmin, Mmax+Mstep,Mstep):\r\n",
    "                    vc = vc_MSC(M,alpha=alphas[-1])            \r\n",
    "                    [_, ORD]= ord_MSC(sinal=x, tamanhoJanela=tj, M=M)\r\n",
    "                    if ORD[BIN]>vc: nd+=1\r\n",
    "\r\n",
    "        alphaR = nd/(nSim*(Mmax/Mstep))\r\n",
    "\r\n",
    "\r\n",
    "        if VERBOSE==3:\r\n",
    "            print('Significancia atingida:',round(alphaR*100,ndigits=3),'\\b%')\r\n",
    "            print('Alpha corrigido:', round(alphas[-1],ndigits=3))\r\n",
    "\r\n",
    "    if VERBOSE==1:\r\n",
    "        print('Significancia atingida:',round(alphaR*100,ndigits=3),'\\b%')\r\n",
    "        print('Alpha corrigido:', round(alphas[-1],ndigits=4))\r\n",
    "    \r\n",
    "    if it>=itMAX: \r\n",
    "        print('Iteração máxima (',itMAX,') atingida!')\r\n",
    "        print('Significancia alcançada:',round(alphaR*100,ndigits=3),'\\b%')\r\n",
    "        print('Retornando último valor de alpha corrigido: ', round(alphas[-1],ndigits=4))\r\n",
    "    \r\n",
    "    return alphas[-1]\r\n",
    "\r\n",
    "# Exemplo:\r\n",
    "print(corrige_alfaMSC(VERBOSE=3))"
   ],
   "outputs": [
    {
     "output_type": "stream",
     "name": "stdout",
     "text": [
      "\n",
      "Calculando alpha corrigido para alphaD = 0.05\n"
     ]
    },
    {
     "output_type": "stream",
     "name": "stderr",
     "text": [
      "Iteração #1: 100%|██████████| 1000/1000 [00:00<00:00, 1193.81it/s]\n"
     ]
    },
    {
     "output_type": "stream",
     "name": "stdout",
     "text": [
      "Significancia atingida: 6.167%\n",
      "Alpha corrigido: 0.008\n"
     ]
    },
    {
     "output_type": "stream",
     "name": "stderr",
     "text": [
      "Iteração #2: 100%|██████████| 1000/1000 [00:00<00:00, 1282.24it/s]\n"
     ]
    },
    {
     "output_type": "stream",
     "name": "stdout",
     "text": [
      "Significancia atingida: 4.233%\n",
      "Alpha corrigido: 0.005\n",
      "0.004999999999999999\n"
     ]
    }
   ],
   "metadata": {}
  },
  {
   "cell_type": "markdown",
   "source": [
    "## Teste sequencial com controle de nível significância"
   ],
   "metadata": {}
  },
  {
   "cell_type": "code",
   "execution_count": 30,
   "source": [
    "nSim = round(1e4)\r\n",
    "fs = 126 \r\n",
    "tj = 100 # tempo de cada janela (um segundo no caso)\r\n",
    "alpha=0.05\r\n",
    "Mmax= 80\r\n",
    "Mstep= 5\r\n",
    "Mmin= 10\r\n",
    "BIN = 7\r\n",
    "N = round(Mmax*tj)  # tamanho máximo do sinal\r\n",
    "\r\n",
    "alfa = corrige_alfaMSC(alphaD=alpha, Mmax= Mmax, Mstep=Mstep, Mmin= Mmin, BIN = BIN, VERBOSE=2) # significancia\r\n",
    "nd = 0\r\n",
    "numTestes=0\r\n",
    "\r\n",
    "for _ in tqdm(range(1,nSim+1), desc = 'Simulando:'):\r\n",
    "    x = rd.randn(N) # gera o \"sinal\" completo\r\n",
    "\r\n",
    "    for M in range(Mmin, Mmax+Mstep,Mstep):\r\n",
    "        vc = vc_MSC(M,alpha=alfa)            \r\n",
    "        [_, ORD]= ord_MSC(sinal=x, tamanhoJanela=tj, M=M)\r\n",
    "        if ORD[BIN]>vc: nd+=1\r\n",
    "        numTestes+=1\r\n",
    "\r\n",
    "alphaR = nd/(numTestes)\r\n",
    "print(numTestes-nSim*(Mmax/Mstep))\r\n",
    "# for i in tqdm(range(1,round(nSim+1))):\r\n",
    "#     x = np.zeros((Mmax*tj,))\r\n",
    "\r\n",
    "#     x[0:M1test*tj] = rd.randn(M1test*tj)\r\n",
    "#     [X, ORD]= ord_MSC(sinal=x, tamanhoJanela=tj, M=M1test)\r\n",
    "\r\n",
    "#     if ORD[BIN]>vc1: nd+=1\r\n",
    "#     else:\r\n",
    "#         x[M1test*tj:tj*M2test+1] = rd.randn((M2test-M1test)*tj)\r\n",
    "#         [X, ORD]= ord_MSC(sinal=x, tamanhoJanela=tj, M=M2test)\r\n",
    "#         if ORD[BIN]>vc2: nd+=1\r\n",
    "\r\n",
    "\r\n",
    "print('Taxa de FP: '+str(nd/nSim *100),'\\b%')"
   ],
   "outputs": [
    {
     "output_type": "stream",
     "name": "stdout",
     "text": [
      "\n",
      "Calculando alpha corrigido para alphaD = 0.05\n"
     ]
    },
    {
     "output_type": "stream",
     "name": "stderr",
     "text": [
      "Iteração #1: 100%|██████████| 1000/1000 [00:02<00:00, 480.30it/s]\n",
      "Simulando:: 100%|██████████| 10000/10000 [00:21<00:00, 475.82it/s]"
     ]
    },
    {
     "output_type": "stream",
     "name": "stdout",
     "text": [
      "-10000.0\n",
      "Taxa de FP: 26.06%\n"
     ]
    },
    {
     "output_type": "stream",
     "name": "stderr",
     "text": [
      "\n"
     ]
    }
   ],
   "metadata": {}
  }
 ],
 "metadata": {
  "orig_nbformat": 4,
  "language_info": {
   "name": "python",
   "version": "3.8.8",
   "mimetype": "text/x-python",
   "codemirror_mode": {
    "name": "ipython",
    "version": 3
   },
   "pygments_lexer": "ipython3",
   "nbconvert_exporter": "python",
   "file_extension": ".py"
  },
  "kernelspec": {
   "name": "python3",
   "display_name": "Python 3.8.8 64-bit"
  },
  "interpreter": {
   "hash": "cfa9f19be2613e4579a58a9987011ae958af41d7e96c35562382e4ee706b270d"
  }
 },
 "nbformat": 4,
 "nbformat_minor": 2
}