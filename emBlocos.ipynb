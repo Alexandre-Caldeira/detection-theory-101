{
 "cells": [
  {
   "cell_type": "markdown",
   "source": [
    "# Imports e Setup $\\sqrt{}$\r\n",
    "$\\alpha := 5 \\%$ !!!"
   ],
   "metadata": {}
  },
  {
   "cell_type": "code",
   "execution_count": 12,
   "source": [
    "import pandas as pd\r\n",
    "import seaborn as sns\r\n",
    "import matplotlib.pyplot as plt\r\n",
    "import numpy as np\r\n",
    "from numpy import random as rd\r\n",
    "%matplotlib inline\r\n",
    "plt.rcParams['figure.figsize'] = [20, 8]\r\n",
    "plt.rcParams['figure.dpi'] = 100 # 200 e.g. is really fine, but slower\r\n",
    "sns.set_theme(context=\"notebook\")\r\n",
    "\r\n",
    "# scipy.fft é melhor !\r\n",
    "# https://stackoverflow.com/questions/6363154/what-is-the-difference-between-numpy-fft-and-scipy-fftpack\r\n",
    "from scipy.fft import fft\r\n",
    "from scipy.fftpack.helper import fftfreq\r\n",
    "# from numpy.fft import fft,fftfreq\r\n",
    "\r\n",
    "from scipy.stats import f as FDIST\r\n",
    "from scipy.stats.distributions import chi2"
   ],
   "outputs": [],
   "metadata": {}
  },
  {
   "cell_type": "code",
   "execution_count": 13,
   "source": [
    "# Calcula valor crítico em ORD qualquer, calculando quantil 95%\r\n",
    "def vc_pratico(ORD, alpha = 0.05):\r\n",
    "    return np.quantile(a= ORD, q = 1-alpha)"
   ],
   "outputs": [],
   "metadata": {}
  },
  {
   "cell_type": "markdown",
   "source": [
    "# SFT: Spectral F-Test $\\sqrt{}$"
   ],
   "metadata": {}
  },
  {
   "cell_type": "markdown",
   "source": [
    "## Definição e Funções"
   ],
   "metadata": {}
  },
  {
   "cell_type": "markdown",
   "source": [
    "<img src = \"sft.png\"/>"
   ],
   "metadata": {}
  },
  {
   "cell_type": "code",
   "execution_count": 76,
   "source": [
    "def vc_SFT(L, alpha = 0.05, VERBOSE = 0):\r\n",
    "    # valor crítico teórico, dado tomando inversa da distribuição acumulada F\r\n",
    "    # (Fisher-Snedecor)\r\n",
    "    # com significancia 1-alpha (95% se não for alterada)\r\n",
    "    vc = FDIST.ppf(1-alpha, 2,2*L) \r\n",
    "    \r\n",
    "    if VERBOSE==1:\r\n",
    "        print('Significância desejada: ',alpha*100,'\\b%')\r\n",
    "    if VERBOSE==2:\r\n",
    "        print('Significância desejada: ',alpha*100,'\\b%')\r\n",
    "        print('Valor crítico SFT: ',vc)\r\n",
    "\r\n",
    "    return vc\r\n",
    "        #fce999 TODO: perguntar por que 2 e 2*L!\r\n",
    "\r\n",
    "def ord_SFT(sinal, L, BIN):\r\n",
    "    # L: tamanho das laterais\r\n",
    "    SINAL = fft(sinal)\r\n",
    "\r\n",
    "    central = round(BIN) # certifica inteiro (não float)\r\n",
    "    lateralMenor = round(central-L/2)\r\n",
    "    lateralMaior = round(central+L/2)+1       \r\n",
    "\r\n",
    "    DEN =np.abs(SINAL[central])**2\r\n",
    "    SINAL_lateral = np.array(list(SINAL[lateralMenor:central])+list(SINAL[central+1:lateralMaior])) \r\n",
    "    NUM = (1/L)*np.sum(np.abs(SINAL_lateral)**2)\r\n",
    "    SFT = DEN/NUM\r\n",
    "    \r\n",
    "    return [SINAL,SFT]"
   ],
   "outputs": [],
   "metadata": {}
  },
  {
   "cell_type": "markdown",
   "source": [
    "## Single-shot"
   ],
   "metadata": {}
  },
  {
   "cell_type": "code",
   "execution_count": 77,
   "source": [
    "from tqdm import tqdm \r\n",
    "\r\n",
    "nSim = 1e4\r\n",
    "L = 6\r\n",
    "BIN = 30\r\n",
    "\r\n",
    "vc = vc_SFT(L=L,alpha=0.02)\r\n",
    "nd = 0\r\n",
    "hist = []\r\n",
    "\r\n",
    "for i in tqdm(range(1,round(nSim+1))):\r\n",
    "    x = np.zeros((round(nSim),))\r\n",
    "\r\n",
    "    x = rd.randn(round(nSim))\r\n",
    "    [X, ORD]= ord_SFT(sinal = x, L = L, BIN = BIN)\r\n",
    "    if ORD>vc: nd+=1\r\n",
    "\r\n",
    "\r\n",
    "print('Taxa de FP: '+str(nd/nSim *100))"
   ],
   "outputs": [
    {
     "output_type": "stream",
     "name": "stderr",
     "text": [
      "100%|██████████| 10000/10000 [00:03<00:00, 2738.15it/s]"
     ]
    },
    {
     "output_type": "stream",
     "name": "stdout",
     "text": [
      "Taxa de FP: 1.9900000000000002\n"
     ]
    },
    {
     "output_type": "stream",
     "name": "stderr",
     "text": [
      "\n"
     ]
    }
   ],
   "metadata": {}
  },
  {
   "cell_type": "markdown",
   "source": [
    "# CSM: Component Synchrony Measure $\\sqrt{}$"
   ],
   "metadata": {}
  },
  {
   "cell_type": "markdown",
   "source": [
    "## Definição e Funções: "
   ],
   "metadata": {}
  },
  {
   "cell_type": "markdown",
   "source": [
    "<img src = \"csm.png\"/>"
   ],
   "metadata": {}
  },
  {
   "cell_type": "code",
   "execution_count": 74,
   "source": [
    "def vc_CSM(M, alpha = 0.05, VERBOSE=0):\r\n",
    "    vc = chi2.ppf(1-alpha,2)/(2*M)\r\n",
    "    \r\n",
    "    if VERBOSE==1:\r\n",
    "        print('Significância desejada: ',alpha*100,'\\b%')\r\n",
    "    if VERBOSE==2:\r\n",
    "        print('Significância desejada: ',alpha*100,'\\b%')\r\n",
    "        print('Valor crítico CSM: ',vc)\r\n",
    "\r\n",
    "    return vc\r\n",
    "\r\n",
    "\r\n",
    "def ord_CSM(sinal, tamanhoJanela, M):\r\n",
    "    if len(sinal)-tamanhoJanela*M>=0:\r\n",
    "        \r\n",
    "        sinal = np.reshape(sinal[0:tamanhoJanela*M], (tamanhoJanela,M))\r\n",
    "\r\n",
    "\r\n",
    "        FFT_SINAL = fft(sinal)\r\n",
    "\r\n",
    "        CSM = (np.sum(np.cos(np.angle(FFT_SINAL)),axis=0)/M)**2 + (np.sum(np.sin(np.angle(FFT_SINAL)),axis=0)/M)**2\r\n",
    "\r\n",
    "        return [FFT_SINAL,CSM]\r\n",
    "    else:\r\n",
    "        print('Erro no número de janelas', round(tamanhoJanela),'(ou amostras, M =', M,'\\b) escolhido.')\r\n",
    "        print('Tamanho do Sinal menos M*tamanhoJanela:', len(sinal)-M*tamanhoJanela)\r\n",
    "        print('(Retorna 0)')\r\n",
    "        return 0 "
   ],
   "outputs": [],
   "metadata": {}
  },
  {
   "cell_type": "markdown",
   "source": [
    "## Single-shot"
   ],
   "metadata": {}
  },
  {
   "cell_type": "code",
   "execution_count": 17,
   "source": [
    "from tqdm import tqdm \r\n",
    "\r\n",
    "nSim = round(1e4)\r\n",
    "\r\n",
    "fs = 100 # frequencia de amostragem\r\n",
    "tj = 100 # tamanho da janela (1 seg/janela, pra facilitar)\r\n",
    "M = 100 # teste em 100 segundos\r\n",
    "vc = vc_CSM(M)\r\n",
    "\r\n",
    "N = round(M*tj)\r\n",
    "BIN = 42\r\n",
    "nd = 0\r\n",
    "ndp = 0\r\n",
    "hist = []\r\n",
    "\r\n",
    "\r\n",
    "for i in tqdm(range(1,nSim+1)):\r\n",
    "    x = np.zeros((N,))\r\n",
    "\r\n",
    "    x = rd.randn(N)\r\n",
    "    [X, ORD]= ord_CSM(sinal=x, tamanhoJanela=tj, M=M)\r\n",
    "    # print(ORD)\r\n",
    "\r\n",
    "    if ORD[BIN]>vc: nd+=1\r\n",
    "\r\n",
    "    vcp = vc_pratico(ORD)\r\n",
    "    if ORD[BIN]>vcp: ndp+=1\r\n",
    "\r\n",
    "    hist.append(ORD)\r\n",
    "\r\n",
    "vcp = vc_pratico(hist)\r\n",
    "\r\n",
    "print('Taxa de FP: '+str(nd/nSim *100))\r\n"
   ],
   "outputs": [
    {
     "output_type": "stream",
     "name": "stdout",
     "text": [
      "Significância desejada:  5.0%\n",
      "Valor crítico CSM:  0.029957322735539894\n"
     ]
    },
    {
     "output_type": "stream",
     "name": "stderr",
     "text": [
      "100%|██████████| 10000/10000 [00:12<00:00, 781.77it/s]"
     ]
    },
    {
     "output_type": "stream",
     "name": "stdout",
     "text": [
      "Taxa de FP: 4.5600000000000005\n"
     ]
    },
    {
     "output_type": "stream",
     "name": "stderr",
     "text": [
      "\n"
     ]
    }
   ],
   "metadata": {}
  },
  {
   "cell_type": "markdown",
   "source": [
    "### Gráfico de comparação entre VC Teórico e Prático\r\n",
    "\r\n",
    "> ~ COMPARAÇÕES ~"
   ],
   "metadata": {}
  },
  {
   "cell_type": "code",
   "execution_count": 18,
   "source": [
    "print('\\n ~ COMPARAÇÕES ~')\r\n",
    "print('Valor critico pratico: ',vcp)\r\n",
    "print('Valor critico teorico: ',vc)\r\n",
    "print('Erro relativo:' , round((vcp-vc)/vc*100,ndigits=2),'\\b%')\r\n",
    "\r\n",
    "print('Taxa de FP (vc_teorico): '+str(round(nd/nSim *100,ndigits=2)),'\\b%')\r\n",
    "print('Taxa de FP (vc_pratico): '+str(round(ndp/nSim *100,ndigits=2)),'\\b%')\r\n",
    "# sns.lineplot(y= hist,x=range(1,nSim+1));"
   ],
   "outputs": [
    {
     "output_type": "stream",
     "name": "stdout",
     "text": [
      "\n",
      " ~ COMPARAÇÕES ~\n",
      "Valor critico pratico:  0.030052405860382804\n",
      "Valor critico teorico:  0.029957322735539894\n",
      "Erro relativo: 0.32%\n",
      "Taxa de FP (vc_teorico): 4.56%\n",
      "Taxa de FP (vc_pratico): 3.74%\n"
     ]
    }
   ],
   "metadata": {}
  },
  {
   "cell_type": "markdown",
   "source": [
    "## Sequencial:"
   ],
   "metadata": {}
  },
  {
   "cell_type": "code",
   "execution_count": 20,
   "source": [
    "# Dois testes:\r\n",
    "from tqdm import tqdm \r\n",
    "\r\n",
    "nSim = 1e4\r\n",
    "\r\n",
    "fs = 126 \r\n",
    "tj = 126 # cada janela um segundo \r\n",
    "alfa = 0.05\r\n",
    "\r\n",
    "M1test = 31 # teste em 30 segundos \r\n",
    "M2test = 60 # teste em 60 segundos\r\n",
    "\r\n",
    "vc1 = vc_CSM(M1test)\r\n",
    "vc2 = vc_CSM(M2test)\r\n",
    "\r\n",
    "Mmax = M2test; \r\n",
    "N = Mmax *tj;\r\n",
    "BIN = 30\r\n",
    "nd = 0\r\n",
    "hist = []\r\n",
    "\r\n",
    "\r\n",
    "for i in tqdm(range(1,round(nSim+1))):\r\n",
    "    x = np.zeros((Mmax*tj,))\r\n",
    "\r\n",
    "    x[0:M1test*tj] = rd.randn(M1test*tj)\r\n",
    "    [X, ORD]= ord_CSM(sinal=x, tamanhoJanela=tj, M=M1test)\r\n",
    "\r\n",
    "    if ORD[BIN]>vc1: nd+=1\r\n",
    "    else:\r\n",
    "        x[M1test*tj:tj*M2test+1] = rd.randn((M2test-M1test)*tj)\r\n",
    "        [X, ORD]= ord_CSM(sinal=x, tamanhoJanela=tj, M=M2test)\r\n",
    "        if ORD[BIN]>vc2: nd+=1\r\n",
    "\r\n",
    "\r\n",
    "print('Taxa de FP: '+str(round(nd/nSim *100,ndigits=2)),'\\b%')"
   ],
   "outputs": [
    {
     "output_type": "stream",
     "name": "stdout",
     "text": [
      "Significância desejada:  5.0%\n",
      "Valor crítico CSM:  0.09985774245179965\n",
      "Significância desejada:  5.0%\n",
      "Valor crítico CSM:  0.049928871225899826\n"
     ]
    },
    {
     "output_type": "stream",
     "name": "stderr",
     "text": [
      "100%|██████████| 10000/10000 [00:09<00:00, 1076.12it/s]"
     ]
    },
    {
     "output_type": "stream",
     "name": "stdout",
     "text": [
      "Taxa de FP: 61.49%\n"
     ]
    },
    {
     "output_type": "stream",
     "name": "stderr",
     "text": [
      "\n"
     ]
    }
   ],
   "metadata": {}
  },
  {
   "cell_type": "markdown",
   "source": [
    "# MSC: Magnitude-Squared Coherence $\\sqrt{}$"
   ],
   "metadata": {}
  },
  {
   "cell_type": "markdown",
   "source": [
    "## Definição e Funções"
   ],
   "metadata": {}
  },
  {
   "cell_type": "markdown",
   "source": [
    "<img src = \"msc.png\"/>"
   ],
   "metadata": {}
  },
  {
   "cell_type": "code",
   "execution_count": 78,
   "source": [
    "def vc_MSC(M, alpha = 0.05, VERBOSE = 0):\r\n",
    "    vc = 1-alpha**(1/(M-1))\r\n",
    "    if VERBOSE==1:\r\n",
    "        print('Significância desejada: ',alpha*100,'\\b%')\r\n",
    "    if VERBOSE==2:\r\n",
    "        print('Significância desejada: ',alpha*100,'\\b%')\r\n",
    "        print('Valor crítico MSC: ',vc)\r\n",
    "    return vc # valor crítico\r\n",
    "\r\n",
    "def ord_MSC(sinal, tamanhoJanela, M):\r\n",
    "    sinal = np.reshape(sinal[0:tamanhoJanela*M], (tamanhoJanela,M))\r\n",
    "\r\n",
    "    SINAL = fft(sinal)\r\n",
    "    \r\n",
    "    MSC = np.abs(np.sum(SINAL,axis=0))**2 / (M*np.sum(np.abs(SINAL)**2,axis=0))\r\n",
    "\r\n",
    "    return [SINAL,MSC]"
   ],
   "outputs": [],
   "metadata": {}
  },
  {
   "cell_type": "markdown",
   "source": [
    "## Single-shot:"
   ],
   "metadata": {}
  },
  {
   "cell_type": "code",
   "execution_count": 22,
   "source": [
    "from tqdm import tqdm \r\n",
    "\r\n",
    "nSim = round(1e4)\r\n",
    "\r\n",
    "fs = 100 # frequencia de amostragem\r\n",
    "tj = 100 # tamanho da janela (1 seg/janela, pra facilitar)\r\n",
    "M = 301 # teste em 100 segundos\r\n",
    "vc = vc_MSC(M)\r\n",
    "\r\n",
    "N = round(M*tj)\r\n",
    "BIN = 30\r\n",
    "nd = 0\r\n",
    "ndp = 0\r\n",
    "hist = []\r\n",
    "\r\n",
    "\r\n",
    "for i in tqdm(range(1,nSim+1)):\r\n",
    "    x = np.zeros((N,))\r\n",
    "\r\n",
    "    x = rd.randn(N)\r\n",
    "    [X, ORD]= ord_MSC(sinal=x, tamanhoJanela=tj, M=M)\r\n",
    "    \r\n",
    "\r\n",
    "    if ORD[BIN]>vc: nd+=1\r\n",
    "    if ORD[BIN]>vc_pratico(ORD): ndp+=1\r\n",
    "\r\n",
    "# Só por comparação e discussão:\r\n",
    "print('\\n ~ COMPARAÇÕES ~')\r\n",
    "print('Valor critico pratico: ',vc_pratico(ORD))\r\n",
    "\r\n",
    "print('Taxa de FP (vc_t): '+str(round(nd/nSim *100,ndigits=2)),'\\b%')\r\n",
    "print('Taxa de FP (vc_p): '+str(round(ndp/nSim *100,ndigits=2)),'\\b%')"
   ],
   "outputs": [
    {
     "output_type": "stream",
     "name": "stdout",
     "text": [
      "Significância desejada:  5.0%\n",
      "Valor crítico CSM:  0.00993608194445772\n"
     ]
    },
    {
     "output_type": "stream",
     "name": "stderr",
     "text": [
      "100%|██████████| 10000/10000 [00:17<00:00, 578.22it/s]"
     ]
    },
    {
     "output_type": "stream",
     "name": "stdout",
     "text": [
      "\n",
      " ~ COMPARAÇÕES ~\n",
      "Valor critico pratico:  0.010131945330143059\n",
      "Taxa de FP (vc_t): 4.9%\n",
      "Taxa de FP (vc_p): 4.66%\n"
     ]
    },
    {
     "output_type": "stream",
     "name": "stderr",
     "text": [
      "\n"
     ]
    }
   ],
   "metadata": {}
  },
  {
   "cell_type": "markdown",
   "source": [
    "## Sequencial:"
   ],
   "metadata": {}
  },
  {
   "cell_type": "code",
   "execution_count": 31,
   "source": [
    "# Apenas 2 testes (exempo):\r\n",
    "from tqdm import tqdm \r\n",
    "\r\n",
    "nSim = 1e4\r\n",
    "\r\n",
    "fs = 126 \r\n",
    "tj = 126 # cada janela um segundo \r\n",
    "alfa = 0.05\r\n",
    "\r\n",
    "M1test = 31 # teste em 30 segundos \r\n",
    "M2test = 60 # teste em 60 segundos\r\n",
    "\r\n",
    "vc1 = vc_MSC(M1test)\r\n",
    "vc2 = vc_MSC(M2test)\r\n",
    "\r\n",
    "Mmax = M2test; \r\n",
    "N = Mmax *tj\r\n",
    "BIN = 30\r\n",
    "nd = 0\r\n",
    "hist = []\r\n",
    "\r\n",
    "\r\n",
    "for i in tqdm(range(1,round(nSim+1))):\r\n",
    "    x = np.zeros((Mmax*tj,))\r\n",
    "\r\n",
    "    x[0:M1test*tj] = rd.randn(M1test*tj)\r\n",
    "    [X, ORD]= ord_MSC(sinal=x, tamanhoJanela=tj, M=M1test)\r\n",
    "\r\n",
    "    if ORD[BIN]>vc1: nd+=1\r\n",
    "    else:\r\n",
    "        x[M1test*tj:tj*M2test+1] = rd.randn((M2test-M1test)*tj)\r\n",
    "        [X, ORD]= ord_MSC(sinal=x, tamanhoJanela=tj, M=M2test)\r\n",
    "        if ORD[BIN]>vc2: nd+=1\r\n",
    "\r\n",
    "\r\n",
    "print('Taxa de FP: '+str(nd/nSim *100),'\\b%')"
   ],
   "outputs": [
    {
     "output_type": "stream",
     "name": "stdout",
     "text": [
      "Significância desejada:  5.0%\n",
      "Valor crítico CSM:  0.09503385285530419\n",
      "Significância desejada:  5.0%\n",
      "Valor crítico CSM:  0.049507609888227\n"
     ]
    },
    {
     "output_type": "stream",
     "name": "stderr",
     "text": [
      "100%|██████████| 10000/10000 [00:05<00:00, 1872.65it/s]"
     ]
    },
    {
     "output_type": "stream",
     "name": "stdout",
     "text": [
      "Taxa de FP: 12.870000000000001%\n"
     ]
    },
    {
     "output_type": "stream",
     "name": "stderr",
     "text": [
      "\n"
     ]
    }
   ],
   "metadata": {}
  },
  {
   "cell_type": "code",
   "execution_count": 30,
   "source": [
    "# Sequencial generalizado:\r\n",
    "from tqdm import tqdm \r\n",
    "\r\n",
    "nSim = round(1e4)\r\n",
    "\r\n",
    "fs = 100 \r\n",
    "tj = 100 # cada janela um segundo \r\n",
    "alfa = 0.05\r\n",
    "\r\n",
    "M = 30 # teste em 30 segundos\r\n",
    "Mstep = 10\r\n",
    "\r\n",
    "vc = vc_MSC(M)\r\n",
    "\r\n",
    "Mmax = 90; \r\n",
    "N = round(Mmax*tj)\r\n",
    "BIN = 30\r\n",
    "nd = 0\r\n",
    "hist = []\r\n",
    "\r\n",
    "\r\n",
    "for i in tqdm(range(1,nSim+1)):\r\n",
    "    x = np.zeros((N,))\r\n",
    "    x = rd.randn(N)\r\n",
    "\r\n",
    "    for M_atual in range(M, Mmax, Mstep):\r\n",
    "        [X, ORD]= ord_MSC(sinal=x, tamanhoJanela=tj, M=M_atual)\r\n",
    "\r\n",
    "        if ORD[BIN]>vc: nd+=1\r\n",
    "\r\n",
    "print('Taxa de FP: '+str(nd/nSim *100),'\\b%')"
   ],
   "outputs": [
    {
     "output_type": "stream",
     "name": "stdout",
     "text": [
      "Significância desejada:  5.0%\n",
      "Valor crítico CSM:  0.0981446276772957\n"
     ]
    },
    {
     "output_type": "stream",
     "name": "stderr",
     "text": [
      "  0%|          | 0/10000 [00:00<?, ?it/s]\n"
     ]
    },
    {
     "output_type": "error",
     "ename": "IndexError",
     "evalue": "index 30 is out of bounds for axis 0 with size 30",
     "traceback": [
      "\u001b[1;31m---------------------------------------------------------------------------\u001b[0m",
      "\u001b[1;31mIndexError\u001b[0m                                Traceback (most recent call last)",
      "\u001b[1;32m<ipython-input-30-47258641f8be>\u001b[0m in \u001b[0;36m<module>\u001b[1;34m\u001b[0m\n\u001b[0;32m     27\u001b[0m         \u001b[1;33m[\u001b[0m\u001b[0mX\u001b[0m\u001b[1;33m,\u001b[0m \u001b[0mORD\u001b[0m\u001b[1;33m]\u001b[0m\u001b[1;33m=\u001b[0m \u001b[0mord_MSC\u001b[0m\u001b[1;33m(\u001b[0m\u001b[0msinal\u001b[0m\u001b[1;33m=\u001b[0m\u001b[0mx\u001b[0m\u001b[1;33m,\u001b[0m \u001b[0mtamanhoJanela\u001b[0m\u001b[1;33m=\u001b[0m\u001b[0mtj\u001b[0m\u001b[1;33m,\u001b[0m \u001b[0mM\u001b[0m\u001b[1;33m=\u001b[0m\u001b[0mM_atual\u001b[0m\u001b[1;33m)\u001b[0m\u001b[1;33m\u001b[0m\u001b[1;33m\u001b[0m\u001b[0m\n\u001b[0;32m     28\u001b[0m \u001b[1;33m\u001b[0m\u001b[0m\n\u001b[1;32m---> 29\u001b[1;33m         \u001b[1;32mif\u001b[0m \u001b[0mORD\u001b[0m\u001b[1;33m[\u001b[0m\u001b[0mBIN\u001b[0m\u001b[1;33m]\u001b[0m\u001b[1;33m>\u001b[0m\u001b[0mvc\u001b[0m\u001b[1;33m:\u001b[0m \u001b[0mnd\u001b[0m\u001b[1;33m+=\u001b[0m\u001b[1;36m1\u001b[0m\u001b[1;33m\u001b[0m\u001b[1;33m\u001b[0m\u001b[0m\n\u001b[0m\u001b[0;32m     30\u001b[0m \u001b[1;33m\u001b[0m\u001b[0m\n\u001b[0;32m     31\u001b[0m \u001b[0mprint\u001b[0m\u001b[1;33m(\u001b[0m\u001b[1;34m'Taxa de FP: '\u001b[0m\u001b[1;33m+\u001b[0m\u001b[0mstr\u001b[0m\u001b[1;33m(\u001b[0m\u001b[0mnd\u001b[0m\u001b[1;33m/\u001b[0m\u001b[0mnSim\u001b[0m \u001b[1;33m*\u001b[0m\u001b[1;36m100\u001b[0m\u001b[1;33m)\u001b[0m\u001b[1;33m,\u001b[0m\u001b[1;34m'\\b%'\u001b[0m\u001b[1;33m)\u001b[0m\u001b[1;33m\u001b[0m\u001b[1;33m\u001b[0m\u001b[0m\n",
      "\u001b[1;31mIndexError\u001b[0m: index 30 is out of bounds for axis 0 with size 30"
     ]
    }
   ],
   "metadata": {}
  },
  {
   "cell_type": "markdown",
   "source": [
    "# Controle de significância (MSC)"
   ],
   "metadata": {}
  },
  {
   "cell_type": "markdown",
   "source": [
    "## Definindo:"
   ],
   "metadata": {}
  },
  {
   "cell_type": "code",
   "execution_count": 134,
   "source": [
    "# Usando sequencial generalizado, queremos FP= 5% no teste GERAL! Qual deve ser FPi (cada iteração)?\r\n",
    "\r\n",
    "def corrige_alfaMSC(\r\n",
    "    tj = 100, # cada janela um segundo \r\n",
    "    Mmin = 10,\r\n",
    "    Mstep = 10,\r\n",
    "    Mmax = 60,\r\n",
    "    BIN = 7,\r\n",
    "    alphaD = 5/100,  #fff significancia a atingir\r\n",
    "    alphas = [0.05], # primeiro \"chute\"\r\n",
    "    tx_apr = 0.1,    # taxa de aprendizado\r\n",
    "    nSim = 1e4, \r\n",
    "    itMAX = 15,\r\n",
    "    VERBOSE = 1):\r\n",
    "\r\n",
    "    print('\\nCalculando alpha corrigido:')\r\n",
    "\r\n",
    "    N = round(Mmax*tj)\r\n",
    "    nSim = round(nSim)\r\n",
    "\r\n",
    "    alphaR = 1    # significancia corrigida\r\n",
    "    it = 1\r\n",
    "\r\n",
    "\r\n",
    "    while alphaR > alphaD and it <= itMAX+1:\r\n",
    "        if VERBOSE==2: print('Iteração #',it,'\\b')\r\n",
    "        it+=1\r\n",
    "\r\n",
    "        # Se J = mse = e^2 (univariado), então:\r\n",
    "        grad = 2*alphas[-1] - alphaD\r\n",
    "        alphas.append(alphas[-1] -tx_apr*(grad))\r\n",
    "        alpha = alphas[-1]\r\n",
    "        numTestes = 0\r\n",
    "\r\n",
    "        for _ in tqdm(range(1,nSim+1), leave=(VERBOSE>1)):\r\n",
    "            x = rd.randn(N) # gera o \"sinal\" completo\r\n",
    "            nd = 0\r\n",
    "\r\n",
    "            # np.zeros((nSim,Mmax))\r\n",
    "            # shape_ORD = (M,) ==> uma ORD pra cara Mstep\r\n",
    "            # nd para cada ORD (ou seja, para cada Mstep) e para cada nSim\r\n",
    "\r\n",
    "            for M in range(Mmin, Mmax+Mstep,Mstep):\r\n",
    "                vc = vc_MSC(M,alpha=alpha)            \r\n",
    "                [_, ORD]= ord_MSC(sinal=x, tamanhoJanela=tj, M=M)\r\n",
    "                numTestes+=1\r\n",
    "                if ORD[BIN]>vc: nd+=1\r\n",
    "                \r\n",
    "                # nd = np.where(np.greater_equal(ORD[BIN],),1,0)\r\n",
    "                # print(ORD.shape)\r\n",
    "\r\n",
    "                \r\n",
    "        print(numTestes)\r\n",
    "        print(nd)\r\n",
    "        alphaR = nd/(numTestes)\r\n",
    "\r\n",
    "        if VERBOSE==2:\r\n",
    "            print('Significancia atingida:',round(alphaR*100,ndigits=3),'\\b%')\r\n",
    "            print('Alpha corrigido:', round(alphas[-1],ndigits=3))\r\n",
    "\r\n",
    "    if VERBOSE==1:\r\n",
    "        print('Significancia atingida:',round(alphaR*100,ndigits=3),'\\b%')\r\n",
    "        print('Alpha corrigido:', round(alphas[-1],ndigits=4))\r\n",
    "    \r\n",
    "    if it>=itMAX: \r\n",
    "        print('Iteração máxima (',itMAX,') atingida!')\r\n",
    "        print('Significancia alcançada:',round(alphaR*100,ndigits=3),'\\b%')\r\n",
    "        print('Retornando último valor de alpha corrigido: ', round(alphas[-1],ndigits=4))\r\n",
    "    \r\n",
    "    return alphas[-1]\r\n",
    "\r\n",
    "print(corrige_alfaMSC(alphaD= 0.01,VERBOSE=2))"
   ],
   "outputs": [
    {
     "output_type": "stream",
     "name": "stdout",
     "text": [
      "\n",
      "Calculando alpha corrigido:\n",
      "Iteração # 1\n"
     ]
    },
    {
     "output_type": "stream",
     "name": "stderr",
     "text": [
      "100%|██████████| 10000/10000 [00:08<00:00, 1134.60it/s]"
     ]
    },
    {
     "output_type": "stream",
     "name": "stdout",
     "text": [
      "60000\n",
      "0\n",
      "Significancia atingida: 0.0%\n",
      "Alpha corrigido: 0.041\n",
      "0.041\n"
     ]
    },
    {
     "output_type": "stream",
     "name": "stderr",
     "text": [
      "\n"
     ]
    }
   ],
   "metadata": {}
  },
  {
   "cell_type": "code",
   "execution_count": null,
   "source": [
    "import tensorflow as tf\r\n",
    "mse = tf.keras.losses.MeanSquaredError()\r\n",
    "\r\n",
    "alpha = alpha[i-1] - lr*mse\r\n",
    "# print(mse([0.010], [0.05]).numpy())\r\n",
    "\r\n",
    "nSim = round(1e4)"
   ],
   "outputs": [
    {
     "output_type": "stream",
     "name": "stdout",
     "text": [
      "0.0016\n"
     ]
    }
   ],
   "metadata": {}
  },
  {
   "cell_type": "code",
   "execution_count": null,
   "source": [
    "a = np.zeros((3,3))\r\n",
    "a[0][1] = 1\r\n",
    "a[2][1] = 0.5\r\n",
    "print(a)\r\n",
    "\r\n",
    "t = np.greater_equal(a,1)\r\n",
    "print(t)"
   ],
   "outputs": [
    {
     "output_type": "stream",
     "name": "stdout",
     "text": [
      "[[0.  1.  0. ]\n",
      " [0.  0.  0. ]\n",
      " [0.  0.5 0. ]]\n",
      "[[False  True False]\n",
      " [False False False]\n",
      " [False False False]]\n"
     ]
    }
   ],
   "metadata": {}
  }
 ],
 "metadata": {
  "orig_nbformat": 4,
  "language_info": {
   "name": "python",
   "version": "3.8.8",
   "mimetype": "text/x-python",
   "codemirror_mode": {
    "name": "ipython",
    "version": 3
   },
   "pygments_lexer": "ipython3",
   "nbconvert_exporter": "python",
   "file_extension": ".py"
  },
  "kernelspec": {
   "name": "python3",
   "display_name": "Python 3.8.8 64-bit"
  },
  "interpreter": {
   "hash": "cfa9f19be2613e4579a58a9987011ae958af41d7e96c35562382e4ee706b270d"
  }
 },
 "nbformat": 4,
 "nbformat_minor": 2
}